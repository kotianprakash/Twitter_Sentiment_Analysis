{
 "cells": [
  {
   "cell_type": "code",
   "execution_count": 1,
   "metadata": {},
   "outputs": [],
   "source": [
    "import pandas as pd \n",
    "import numpy as np\n",
    "import seaborn as sns\n",
    "import matplotlib.pyplot as plt\n",
    "import matplotlib.gridspec as gridspec\n",
    "\n",
    "%matplotlib inline"
   ]
  },
  {
   "cell_type": "code",
   "execution_count": 2,
   "metadata": {},
   "outputs": [],
   "source": [
    "#Supress warnings\n",
    "\n",
    "import warnings\n",
    "warnings.filterwarnings('ignore')\n",
    "\n",
    "\n",
    "pd.set_option('display.max_columns',None)"
   ]
  },
  {
   "cell_type": "code",
   "execution_count": 8,
   "metadata": {},
   "outputs": [],
   "source": [
    "\n",
    "# Pip install Tweepy if you don't already have the package\n",
    "# pip install tweepy\n",
    "\n",
    "# Imports\n",
    "import tweepy\n",
    "import pandas as pd\n",
    "import time\n",
    "import re \n",
    "from tweepy import OAuthHandler \n",
    "from textblob import TextBlob "
   ]
  },
  {
   "cell_type": "code",
   "execution_count": 9,
   "metadata": {},
   "outputs": [],
   "source": [
    "import spacy"
   ]
  },
  {
   "cell_type": "code",
   "execution_count": 10,
   "metadata": {},
   "outputs": [
    {
     "data": {
      "text/plain": [
       "'3.5.0'"
      ]
     },
     "execution_count": 10,
     "metadata": {},
     "output_type": "execute_result"
    }
   ],
   "source": [
    "spacy.__version__"
   ]
  },
  {
   "cell_type": "code",
   "execution_count": 11,
   "metadata": {},
   "outputs": [],
   "source": [
    "import nltk"
   ]
  },
  {
   "cell_type": "code",
   "execution_count": 12,
   "metadata": {
    "scrolled": true
   },
   "outputs": [
    {
     "name": "stderr",
     "output_type": "stream",
     "text": [
      "[nltk_data] Downloading package vader_lexicon to C:\\Users\\prakash\n",
      "[nltk_data]     kotian\\AppData\\Roaming\\nltk_data...\n"
     ]
    },
    {
     "data": {
      "text/plain": [
       "True"
      ]
     },
     "execution_count": 12,
     "metadata": {},
     "output_type": "execute_result"
    }
   ],
   "source": [
    "nltk.download(\"vader_lexicon\")"
   ]
  },
  {
   "cell_type": "code",
   "execution_count": 13,
   "metadata": {},
   "outputs": [],
   "source": [
    "from nltk.sentiment.vader import SentimentIntensityAnalyzer"
   ]
  },
  {
   "cell_type": "code",
   "execution_count": 14,
   "metadata": {},
   "outputs": [],
   "source": [
    "sid = SentimentIntensityAnalyzer()"
   ]
  },
  {
   "cell_type": "code",
   "execution_count": null,
   "metadata": {},
   "outputs": [],
   "source": []
  },
  {
   "cell_type": "code",
   "execution_count": 15,
   "metadata": {},
   "outputs": [],
   "source": [
    "\n",
    "# keys and tokens from the Twitter Dev Console \n",
    "consumer_key = \"1wJjd9jjUwrobLlwp1u4Ri8vs\"\n",
    "consumer_secret = \"U4HrBz8nAczVnVQhHGcCTuxcNL7vxZpjj5DTld4ROGauJpC8tQ\"\n",
    "access_token = \"1039066641995366401-20R1QVuFdwq4ydRygzHqzb7k6lkqdl\"\n",
    "access_token_secret = \"0yfIaszIEPorQfIP8gu7Z9TkCmVGKEDssIjlFCiPxhWmw\"\n",
    "\n",
    "# attempt authentication \n",
    "try: \n",
    "    # create OAuthHandler object \n",
    "    auth = tweepy.OAuthHandler(consumer_key, consumer_secret)\n",
    "    # set access token and secret \n",
    "    auth.set_access_token(access_token, access_token_secret)\n",
    "    # create tweepy API object to fetch tweets \n",
    "    api = tweepy.API(auth,wait_on_rate_limit=True)\n",
    "except: \n",
    "    print(\"Error: Authentication Failed\") "
   ]
  },
  {
   "cell_type": "code",
   "execution_count": 16,
   "metadata": {},
   "outputs": [],
   "source": [
    "def clean_tweet(tweet): \n",
    "    ''' \n",
    "    Utility function to clean tweet text by removing links, special characters \n",
    "    using simple regex statements. \n",
    "    '''\n",
    "    return ' '.join(re.sub(\"(@[A-Za-z0-9]+)|([^0-9A-Za-z \\t])|(\\w+:\\/\\/\\S+)\", \" \", tweet).split())\n"
   ]
  },
  {
   "cell_type": "code",
   "execution_count": 17,
   "metadata": {},
   "outputs": [],
   "source": [
    "def get_tweet_sentiment(score): \n",
    "    ''' \n",
    "    Utility function to classify sentiment of passed tweet \n",
    "    using textblob's sentiment method \n",
    "    '''\n",
    "    \n",
    "    if score > 0: \n",
    "        return 'positive'\n",
    "    elif score == 0: \n",
    "        return 'neutral'\n",
    "    else: \n",
    "        return 'negative'\n"
   ]
  },
  {
   "cell_type": "markdown",
   "metadata": {},
   "source": [
    "Query by Text Search\n",
    "Function is focused on completing the query then providing a CSV file of that query using pandas`"
   ]
  },
  {
   "cell_type": "code",
   "execution_count": 23,
   "metadata": {},
   "outputs": [],
   "source": [
    "query = \"deep learning\" + \" \" + \"-filter:retweets\"\n",
    "count = 1500\n",
    "# # Creation of query method using parameters\n",
    "# tweets = tweepy.Cursor(api.search,q=query).items(count)"
   ]
  },
  {
   "cell_type": "code",
   "execution_count": null,
   "metadata": {},
   "outputs": [],
   "source": []
  },
  {
   "cell_type": "code",
   "execution_count": 24,
   "metadata": {},
   "outputs": [],
   "source": [
    "tweets = api.search_tweets(q=query, lang=\"en\", count=count)"
   ]
  },
  {
   "cell_type": "code",
   "execution_count": 25,
   "metadata": {},
   "outputs": [
    {
     "data": {
      "text/plain": [
       "95"
      ]
     },
     "execution_count": 25,
     "metadata": {},
     "output_type": "execute_result"
    }
   ],
   "source": [
    "len(tweets)"
   ]
  },
  {
   "cell_type": "code",
   "execution_count": 26,
   "metadata": {},
   "outputs": [
    {
     "data": {
      "text/plain": [
       "datetime.datetime(2023, 1, 22, 13, 46, 4, tzinfo=datetime.timezone.utc)"
      ]
     },
     "execution_count": 26,
     "metadata": {},
     "output_type": "execute_result"
    }
   ],
   "source": [
    "tweets[0].created_at"
   ]
  },
  {
   "cell_type": "code",
   "execution_count": 27,
   "metadata": {
    "collapsed": true
   },
   "outputs": [
    {
     "data": {
      "text/plain": [
       "['__class__',\n",
       " '__delattr__',\n",
       " '__dict__',\n",
       " '__dir__',\n",
       " '__doc__',\n",
       " '__eq__',\n",
       " '__format__',\n",
       " '__ge__',\n",
       " '__getattribute__',\n",
       " '__getstate__',\n",
       " '__gt__',\n",
       " '__hash__',\n",
       " '__init__',\n",
       " '__init_subclass__',\n",
       " '__le__',\n",
       " '__lt__',\n",
       " '__module__',\n",
       " '__ne__',\n",
       " '__new__',\n",
       " '__reduce__',\n",
       " '__reduce_ex__',\n",
       " '__repr__',\n",
       " '__setattr__',\n",
       " '__sizeof__',\n",
       " '__slots__',\n",
       " '__str__',\n",
       " '__subclasshook__',\n",
       " '__weakref__',\n",
       " '_api',\n",
       " '_json',\n",
       " 'author',\n",
       " 'contributors',\n",
       " 'coordinates',\n",
       " 'created_at',\n",
       " 'destroy',\n",
       " 'entities',\n",
       " 'favorite',\n",
       " 'favorite_count',\n",
       " 'favorited',\n",
       " 'geo',\n",
       " 'id',\n",
       " 'id_str',\n",
       " 'in_reply_to_screen_name',\n",
       " 'in_reply_to_status_id',\n",
       " 'in_reply_to_status_id_str',\n",
       " 'in_reply_to_user_id',\n",
       " 'in_reply_to_user_id_str',\n",
       " 'is_quote_status',\n",
       " 'lang',\n",
       " 'metadata',\n",
       " 'parse',\n",
       " 'parse_list',\n",
       " 'place',\n",
       " 'possibly_sensitive',\n",
       " 'retweet',\n",
       " 'retweet_count',\n",
       " 'retweeted',\n",
       " 'retweets',\n",
       " 'source',\n",
       " 'source_url',\n",
       " 'text',\n",
       " 'truncated',\n",
       " 'user']"
      ]
     },
     "execution_count": 27,
     "metadata": {},
     "output_type": "execute_result"
    }
   ],
   "source": [
    "dir(tweets[0])"
   ]
  },
  {
   "cell_type": "code",
   "execution_count": 29,
   "metadata": {},
   "outputs": [
    {
     "data": {
      "text/plain": [
       "'A neural network that consists of more than three layers—which would be inclusive of the inputs and the output—can… https://t.co/Nu3uBckFrU'"
      ]
     },
     "execution_count": 29,
     "metadata": {},
     "output_type": "execute_result"
    }
   ],
   "source": [
    "tweets[5].text"
   ]
  },
  {
   "cell_type": "code",
   "execution_count": 30,
   "metadata": {},
   "outputs": [],
   "source": [
    "# Pulling information from tweets iterable object\n",
    "tweets_list = [[ tweet.id, tweet.created_at, tweet.text] for tweet in tweets]"
   ]
  },
  {
   "cell_type": "code",
   "execution_count": 31,
   "metadata": {
    "jupyter": {
     "outputs_hidden": true
    }
   },
   "outputs": [
    {
     "data": {
      "text/plain": [
       "[1617156645695680513,\n",
       " datetime.datetime(2023, 1, 22, 13, 46, 4, tzinfo=datetime.timezone.utc),\n",
       " 'Proposing a deep learning model that uses a novel Neuron Activity Aware (NeAW) Hebbian learning rule to dynamically… https://t.co/2695kHK8em']"
      ]
     },
     "execution_count": 31,
     "metadata": {},
     "output_type": "execute_result"
    }
   ],
   "source": [
    "tweets_list[0]"
   ]
  },
  {
   "cell_type": "code",
   "execution_count": null,
   "metadata": {},
   "outputs": [],
   "source": []
  },
  {
   "cell_type": "code",
   "execution_count": 32,
   "metadata": {},
   "outputs": [],
   "source": [
    "# Creation of dataframe from tweets list\n",
    "# Add or remove columns as you remove tweet information\n",
    "tweets_df = pd.DataFrame(tweets_list,columns=['Tweet Id', 'Datetime', 'tweet'])"
   ]
  },
  {
   "cell_type": "code",
   "execution_count": 33,
   "metadata": {},
   "outputs": [
    {
     "data": {
      "text/html": [
       "<div>\n",
       "<style scoped>\n",
       "    .dataframe tbody tr th:only-of-type {\n",
       "        vertical-align: middle;\n",
       "    }\n",
       "\n",
       "    .dataframe tbody tr th {\n",
       "        vertical-align: top;\n",
       "    }\n",
       "\n",
       "    .dataframe thead th {\n",
       "        text-align: right;\n",
       "    }\n",
       "</style>\n",
       "<table border=\"1\" class=\"dataframe\">\n",
       "  <thead>\n",
       "    <tr style=\"text-align: right;\">\n",
       "      <th></th>\n",
       "      <th>Tweet Id</th>\n",
       "      <th>Datetime</th>\n",
       "      <th>tweet</th>\n",
       "    </tr>\n",
       "  </thead>\n",
       "  <tbody>\n",
       "    <tr>\n",
       "      <th>0</th>\n",
       "      <td>1617156645695680513</td>\n",
       "      <td>2023-01-22 13:46:04+00:00</td>\n",
       "      <td>Proposing a deep learning model that uses a no...</td>\n",
       "    </tr>\n",
       "    <tr>\n",
       "      <th>1</th>\n",
       "      <td>1617156300151963650</td>\n",
       "      <td>2023-01-22 13:44:41+00:00</td>\n",
       "      <td>2/7 PyTorch, created by Facebook, is also an o...</td>\n",
       "    </tr>\n",
       "    <tr>\n",
       "      <th>2</th>\n",
       "      <td>1617156296871927809</td>\n",
       "      <td>2023-01-22 13:44:41+00:00</td>\n",
       "      <td>swd will worship his body as gently, as passio...</td>\n",
       "    </tr>\n",
       "    <tr>\n",
       "      <th>3</th>\n",
       "      <td>1617156293961351171</td>\n",
       "      <td>2023-01-22 13:44:40+00:00</td>\n",
       "      <td>1/7 TensorFlow, created by Google, is a powerf...</td>\n",
       "    </tr>\n",
       "    <tr>\n",
       "      <th>4</th>\n",
       "      <td>1617156291423801344</td>\n",
       "      <td>2023-01-22 13:44:39+00:00</td>\n",
       "      <td>#TensorFlow and #PyTorch are both popular open...</td>\n",
       "    </tr>\n",
       "    <tr>\n",
       "      <th>...</th>\n",
       "      <td>...</td>\n",
       "      <td>...</td>\n",
       "      <td>...</td>\n",
       "    </tr>\n",
       "    <tr>\n",
       "      <th>90</th>\n",
       "      <td>1617072254655037441</td>\n",
       "      <td>2023-01-22 08:10:43+00:00</td>\n",
       "      <td>4️⃣ Keras - a high-level neural networks API w...</td>\n",
       "    </tr>\n",
       "    <tr>\n",
       "      <th>91</th>\n",
       "      <td>1617072246782332928</td>\n",
       "      <td>2023-01-22 08:10:42+00:00</td>\n",
       "      <td>1️⃣ PyTorch - An open-source machine learning ...</td>\n",
       "    </tr>\n",
       "    <tr>\n",
       "      <th>92</th>\n",
       "      <td>1617070853698760704</td>\n",
       "      <td>2023-01-22 08:05:09+00:00</td>\n",
       "      <td>Exploring the Most Popular Machine Learning an...</td>\n",
       "    </tr>\n",
       "    <tr>\n",
       "      <th>93</th>\n",
       "      <td>1617069961708720129</td>\n",
       "      <td>2023-01-22 08:01:37+00:00</td>\n",
       "      <td>There is something about the learning the hist...</td>\n",
       "    </tr>\n",
       "    <tr>\n",
       "      <th>94</th>\n",
       "      <td>1617069616601104384</td>\n",
       "      <td>2023-01-22 08:00:14+00:00</td>\n",
       "      <td>One of the most useful and very rare skills no...</td>\n",
       "    </tr>\n",
       "  </tbody>\n",
       "</table>\n",
       "<p>95 rows × 3 columns</p>\n",
       "</div>"
      ],
      "text/plain": [
       "               Tweet Id                  Datetime  \\\n",
       "0   1617156645695680513 2023-01-22 13:46:04+00:00   \n",
       "1   1617156300151963650 2023-01-22 13:44:41+00:00   \n",
       "2   1617156296871927809 2023-01-22 13:44:41+00:00   \n",
       "3   1617156293961351171 2023-01-22 13:44:40+00:00   \n",
       "4   1617156291423801344 2023-01-22 13:44:39+00:00   \n",
       "..                  ...                       ...   \n",
       "90  1617072254655037441 2023-01-22 08:10:43+00:00   \n",
       "91  1617072246782332928 2023-01-22 08:10:42+00:00   \n",
       "92  1617070853698760704 2023-01-22 08:05:09+00:00   \n",
       "93  1617069961708720129 2023-01-22 08:01:37+00:00   \n",
       "94  1617069616601104384 2023-01-22 08:00:14+00:00   \n",
       "\n",
       "                                                tweet  \n",
       "0   Proposing a deep learning model that uses a no...  \n",
       "1   2/7 PyTorch, created by Facebook, is also an o...  \n",
       "2   swd will worship his body as gently, as passio...  \n",
       "3   1/7 TensorFlow, created by Google, is a powerf...  \n",
       "4   #TensorFlow and #PyTorch are both popular open...  \n",
       "..                                                ...  \n",
       "90  4️⃣ Keras - a high-level neural networks API w...  \n",
       "91  1️⃣ PyTorch - An open-source machine learning ...  \n",
       "92  Exploring the Most Popular Machine Learning an...  \n",
       "93  There is something about the learning the hist...  \n",
       "94  One of the most useful and very rare skills no...  \n",
       "\n",
       "[95 rows x 3 columns]"
      ]
     },
     "execution_count": 33,
     "metadata": {},
     "output_type": "execute_result"
    }
   ],
   "source": [
    "tweets_df"
   ]
  },
  {
   "cell_type": "code",
   "execution_count": 34,
   "metadata": {
    "collapsed": true,
    "jupyter": {
     "outputs_hidden": true
    }
   },
   "outputs": [
    {
     "data": {
      "text/html": [
       "<div>\n",
       "<style scoped>\n",
       "    .dataframe tbody tr th:only-of-type {\n",
       "        vertical-align: middle;\n",
       "    }\n",
       "\n",
       "    .dataframe tbody tr th {\n",
       "        vertical-align: top;\n",
       "    }\n",
       "\n",
       "    .dataframe thead th {\n",
       "        text-align: right;\n",
       "    }\n",
       "</style>\n",
       "<table border=\"1\" class=\"dataframe\">\n",
       "  <thead>\n",
       "    <tr style=\"text-align: right;\">\n",
       "      <th></th>\n",
       "      <th>Tweet Id</th>\n",
       "      <th>Datetime</th>\n",
       "      <th>tweet</th>\n",
       "      <th>clean_text</th>\n",
       "    </tr>\n",
       "  </thead>\n",
       "  <tbody>\n",
       "    <tr>\n",
       "      <th>0</th>\n",
       "      <td>1617156645695680513</td>\n",
       "      <td>2023-01-22 13:46:04+00:00</td>\n",
       "      <td>Proposing a deep learning model that uses a no...</td>\n",
       "      <td>Proposing a deep learning model that uses a no...</td>\n",
       "    </tr>\n",
       "    <tr>\n",
       "      <th>1</th>\n",
       "      <td>1617156300151963650</td>\n",
       "      <td>2023-01-22 13:44:41+00:00</td>\n",
       "      <td>2/7 PyTorch, created by Facebook, is also an o...</td>\n",
       "      <td>2 7 PyTorch created by Facebook is also an ope...</td>\n",
       "    </tr>\n",
       "    <tr>\n",
       "      <th>2</th>\n",
       "      <td>1617156296871927809</td>\n",
       "      <td>2023-01-22 13:44:41+00:00</td>\n",
       "      <td>swd will worship his body as gently, as passio...</td>\n",
       "      <td>swd will worship his body as gently as passion...</td>\n",
       "    </tr>\n",
       "    <tr>\n",
       "      <th>3</th>\n",
       "      <td>1617156293961351171</td>\n",
       "      <td>2023-01-22 13:44:40+00:00</td>\n",
       "      <td>1/7 TensorFlow, created by Google, is a powerf...</td>\n",
       "      <td>1 7 TensorFlow created by Google is a powerful...</td>\n",
       "    </tr>\n",
       "    <tr>\n",
       "      <th>4</th>\n",
       "      <td>1617156291423801344</td>\n",
       "      <td>2023-01-22 13:44:39+00:00</td>\n",
       "      <td>#TensorFlow and #PyTorch are both popular open...</td>\n",
       "      <td>TensorFlow and PyTorch are both popular open s...</td>\n",
       "    </tr>\n",
       "    <tr>\n",
       "      <th>...</th>\n",
       "      <td>...</td>\n",
       "      <td>...</td>\n",
       "      <td>...</td>\n",
       "      <td>...</td>\n",
       "    </tr>\n",
       "    <tr>\n",
       "      <th>90</th>\n",
       "      <td>1617072254655037441</td>\n",
       "      <td>2023-01-22 08:10:43+00:00</td>\n",
       "      <td>4️⃣ Keras - a high-level neural networks API w...</td>\n",
       "      <td>4 Keras a high level neural networks API writt...</td>\n",
       "    </tr>\n",
       "    <tr>\n",
       "      <th>91</th>\n",
       "      <td>1617072246782332928</td>\n",
       "      <td>2023-01-22 08:10:42+00:00</td>\n",
       "      <td>1️⃣ PyTorch - An open-source machine learning ...</td>\n",
       "      <td>1 PyTorch An open source machine learning libr...</td>\n",
       "    </tr>\n",
       "    <tr>\n",
       "      <th>92</th>\n",
       "      <td>1617070853698760704</td>\n",
       "      <td>2023-01-22 08:05:09+00:00</td>\n",
       "      <td>Exploring the Most Popular Machine Learning an...</td>\n",
       "      <td>Exploring the Most Popular Machine Learning an...</td>\n",
       "    </tr>\n",
       "    <tr>\n",
       "      <th>93</th>\n",
       "      <td>1617069961708720129</td>\n",
       "      <td>2023-01-22 08:01:37+00:00</td>\n",
       "      <td>There is something about the learning the hist...</td>\n",
       "      <td>There is something about the learning the hist...</td>\n",
       "    </tr>\n",
       "    <tr>\n",
       "      <th>94</th>\n",
       "      <td>1617069616601104384</td>\n",
       "      <td>2023-01-22 08:00:14+00:00</td>\n",
       "      <td>One of the most useful and very rare skills no...</td>\n",
       "      <td>One of the most useful and very rare skills no...</td>\n",
       "    </tr>\n",
       "  </tbody>\n",
       "</table>\n",
       "<p>95 rows × 4 columns</p>\n",
       "</div>"
      ],
      "text/plain": [
       "               Tweet Id                  Datetime  \\\n",
       "0   1617156645695680513 2023-01-22 13:46:04+00:00   \n",
       "1   1617156300151963650 2023-01-22 13:44:41+00:00   \n",
       "2   1617156296871927809 2023-01-22 13:44:41+00:00   \n",
       "3   1617156293961351171 2023-01-22 13:44:40+00:00   \n",
       "4   1617156291423801344 2023-01-22 13:44:39+00:00   \n",
       "..                  ...                       ...   \n",
       "90  1617072254655037441 2023-01-22 08:10:43+00:00   \n",
       "91  1617072246782332928 2023-01-22 08:10:42+00:00   \n",
       "92  1617070853698760704 2023-01-22 08:05:09+00:00   \n",
       "93  1617069961708720129 2023-01-22 08:01:37+00:00   \n",
       "94  1617069616601104384 2023-01-22 08:00:14+00:00   \n",
       "\n",
       "                                                tweet  \\\n",
       "0   Proposing a deep learning model that uses a no...   \n",
       "1   2/7 PyTorch, created by Facebook, is also an o...   \n",
       "2   swd will worship his body as gently, as passio...   \n",
       "3   1/7 TensorFlow, created by Google, is a powerf...   \n",
       "4   #TensorFlow and #PyTorch are both popular open...   \n",
       "..                                                ...   \n",
       "90  4️⃣ Keras - a high-level neural networks API w...   \n",
       "91  1️⃣ PyTorch - An open-source machine learning ...   \n",
       "92  Exploring the Most Popular Machine Learning an...   \n",
       "93  There is something about the learning the hist...   \n",
       "94  One of the most useful and very rare skills no...   \n",
       "\n",
       "                                           clean_text  \n",
       "0   Proposing a deep learning model that uses a no...  \n",
       "1   2 7 PyTorch created by Facebook is also an ope...  \n",
       "2   swd will worship his body as gently as passion...  \n",
       "3   1 7 TensorFlow created by Google is a powerful...  \n",
       "4   TensorFlow and PyTorch are both popular open s...  \n",
       "..                                                ...  \n",
       "90  4 Keras a high level neural networks API writt...  \n",
       "91  1 PyTorch An open source machine learning libr...  \n",
       "92  Exploring the Most Popular Machine Learning an...  \n",
       "93  There is something about the learning the hist...  \n",
       "94  One of the most useful and very rare skills no...  \n",
       "\n",
       "[95 rows x 4 columns]"
      ]
     },
     "execution_count": 34,
     "metadata": {},
     "output_type": "execute_result"
    }
   ],
   "source": [
    "# clean tweet \n",
    "tweets_df[\"clean_text\"] = tweets_df[\"tweet\"].apply(clean_tweet)\n",
    "tweets_df"
   ]
  },
  {
   "cell_type": "code",
   "execution_count": 36,
   "metadata": {},
   "outputs": [
    {
     "data": {
      "text/plain": [
       "{'neg': 0.787, 'neu': 0.213, 'pos': 0.0, 'compound': -0.5719}"
      ]
     },
     "execution_count": 36,
     "metadata": {},
     "output_type": "execute_result"
    }
   ],
   "source": [
    "sid.polarity_scores(\"i hate you\")"
   ]
  },
  {
   "cell_type": "code",
   "execution_count": null,
   "metadata": {},
   "outputs": [],
   "source": []
  },
  {
   "cell_type": "code",
   "execution_count": 37,
   "metadata": {},
   "outputs": [
    {
     "data": {
      "text/plain": [
       "{'neg': 0.0, 'neu': 1.0, 'pos': 0.0, 'compound': 0.0}"
      ]
     },
     "execution_count": 37,
     "metadata": {},
     "output_type": "execute_result"
    }
   ],
   "source": [
    "tweets_df[\"score\"] = tweets_df[\"clean_text\"].apply(lambda review:sid.polarity_scores(review))\n",
    "# tweets_df.iloc[0]\n",
    "tweets_df[\"score\"][7]"
   ]
  },
  {
   "cell_type": "code",
   "execution_count": 38,
   "metadata": {},
   "outputs": [
    {
     "data": {
      "text/html": [
       "<div>\n",
       "<style scoped>\n",
       "    .dataframe tbody tr th:only-of-type {\n",
       "        vertical-align: middle;\n",
       "    }\n",
       "\n",
       "    .dataframe tbody tr th {\n",
       "        vertical-align: top;\n",
       "    }\n",
       "\n",
       "    .dataframe thead th {\n",
       "        text-align: right;\n",
       "    }\n",
       "</style>\n",
       "<table border=\"1\" class=\"dataframe\">\n",
       "  <thead>\n",
       "    <tr style=\"text-align: right;\">\n",
       "      <th></th>\n",
       "      <th>Tweet Id</th>\n",
       "      <th>Datetime</th>\n",
       "      <th>tweet</th>\n",
       "      <th>clean_text</th>\n",
       "      <th>score</th>\n",
       "    </tr>\n",
       "  </thead>\n",
       "  <tbody>\n",
       "    <tr>\n",
       "      <th>0</th>\n",
       "      <td>1617156645695680513</td>\n",
       "      <td>2023-01-22 13:46:04+00:00</td>\n",
       "      <td>Proposing a deep learning model that uses a no...</td>\n",
       "      <td>Proposing a deep learning model that uses a no...</td>\n",
       "      <td>{'neg': 0.0, 'neu': 0.745, 'pos': 0.255, 'comp...</td>\n",
       "    </tr>\n",
       "    <tr>\n",
       "      <th>1</th>\n",
       "      <td>1617156300151963650</td>\n",
       "      <td>2023-01-22 13:44:41+00:00</td>\n",
       "      <td>2/7 PyTorch, created by Facebook, is also an o...</td>\n",
       "      <td>2 7 PyTorch created by Facebook is also an ope...</td>\n",
       "      <td>{'neg': 0.0, 'neu': 0.923, 'pos': 0.077, 'comp...</td>\n",
       "    </tr>\n",
       "    <tr>\n",
       "      <th>2</th>\n",
       "      <td>1617156296871927809</td>\n",
       "      <td>2023-01-22 13:44:41+00:00</td>\n",
       "      <td>swd will worship his body as gently, as passio...</td>\n",
       "      <td>swd will worship his body as gently as passion...</td>\n",
       "      <td>{'neg': 0.0, 'neu': 0.559, 'pos': 0.441, 'comp...</td>\n",
       "    </tr>\n",
       "    <tr>\n",
       "      <th>3</th>\n",
       "      <td>1617156293961351171</td>\n",
       "      <td>2023-01-22 13:44:40+00:00</td>\n",
       "      <td>1/7 TensorFlow, created by Google, is a powerf...</td>\n",
       "      <td>1 7 TensorFlow created by Google is a powerful...</td>\n",
       "      <td>{'neg': 0.0, 'neu': 0.605, 'pos': 0.395, 'comp...</td>\n",
       "    </tr>\n",
       "    <tr>\n",
       "      <th>4</th>\n",
       "      <td>1617156291423801344</td>\n",
       "      <td>2023-01-22 13:44:39+00:00</td>\n",
       "      <td>#TensorFlow and #PyTorch are both popular open...</td>\n",
       "      <td>TensorFlow and PyTorch are both popular open s...</td>\n",
       "      <td>{'neg': 0.0, 'neu': 0.894, 'pos': 0.106, 'comp...</td>\n",
       "    </tr>\n",
       "  </tbody>\n",
       "</table>\n",
       "</div>"
      ],
      "text/plain": [
       "              Tweet Id                  Datetime  \\\n",
       "0  1617156645695680513 2023-01-22 13:46:04+00:00   \n",
       "1  1617156300151963650 2023-01-22 13:44:41+00:00   \n",
       "2  1617156296871927809 2023-01-22 13:44:41+00:00   \n",
       "3  1617156293961351171 2023-01-22 13:44:40+00:00   \n",
       "4  1617156291423801344 2023-01-22 13:44:39+00:00   \n",
       "\n",
       "                                               tweet  \\\n",
       "0  Proposing a deep learning model that uses a no...   \n",
       "1  2/7 PyTorch, created by Facebook, is also an o...   \n",
       "2  swd will worship his body as gently, as passio...   \n",
       "3  1/7 TensorFlow, created by Google, is a powerf...   \n",
       "4  #TensorFlow and #PyTorch are both popular open...   \n",
       "\n",
       "                                          clean_text  \\\n",
       "0  Proposing a deep learning model that uses a no...   \n",
       "1  2 7 PyTorch created by Facebook is also an ope...   \n",
       "2  swd will worship his body as gently as passion...   \n",
       "3  1 7 TensorFlow created by Google is a powerful...   \n",
       "4  TensorFlow and PyTorch are both popular open s...   \n",
       "\n",
       "                                               score  \n",
       "0  {'neg': 0.0, 'neu': 0.745, 'pos': 0.255, 'comp...  \n",
       "1  {'neg': 0.0, 'neu': 0.923, 'pos': 0.077, 'comp...  \n",
       "2  {'neg': 0.0, 'neu': 0.559, 'pos': 0.441, 'comp...  \n",
       "3  {'neg': 0.0, 'neu': 0.605, 'pos': 0.395, 'comp...  \n",
       "4  {'neg': 0.0, 'neu': 0.894, 'pos': 0.106, 'comp...  "
      ]
     },
     "execution_count": 38,
     "metadata": {},
     "output_type": "execute_result"
    }
   ],
   "source": [
    "tweets_df.head()"
   ]
  },
  {
   "cell_type": "code",
   "execution_count": 39,
   "metadata": {
    "scrolled": true
   },
   "outputs": [
    {
     "data": {
      "text/html": [
       "<div>\n",
       "<style scoped>\n",
       "    .dataframe tbody tr th:only-of-type {\n",
       "        vertical-align: middle;\n",
       "    }\n",
       "\n",
       "    .dataframe tbody tr th {\n",
       "        vertical-align: top;\n",
       "    }\n",
       "\n",
       "    .dataframe thead th {\n",
       "        text-align: right;\n",
       "    }\n",
       "</style>\n",
       "<table border=\"1\" class=\"dataframe\">\n",
       "  <thead>\n",
       "    <tr style=\"text-align: right;\">\n",
       "      <th></th>\n",
       "      <th>Tweet Id</th>\n",
       "      <th>Datetime</th>\n",
       "      <th>tweet</th>\n",
       "      <th>clean_text</th>\n",
       "      <th>score</th>\n",
       "      <th>compound</th>\n",
       "    </tr>\n",
       "  </thead>\n",
       "  <tbody>\n",
       "    <tr>\n",
       "      <th>0</th>\n",
       "      <td>1617156645695680513</td>\n",
       "      <td>2023-01-22 13:46:04+00:00</td>\n",
       "      <td>Proposing a deep learning model that uses a no...</td>\n",
       "      <td>Proposing a deep learning model that uses a no...</td>\n",
       "      <td>{'neg': 0.0, 'neu': 0.745, 'pos': 0.255, 'comp...</td>\n",
       "      <td>0.5859</td>\n",
       "    </tr>\n",
       "    <tr>\n",
       "      <th>1</th>\n",
       "      <td>1617156300151963650</td>\n",
       "      <td>2023-01-22 13:44:41+00:00</td>\n",
       "      <td>2/7 PyTorch, created by Facebook, is also an o...</td>\n",
       "      <td>2 7 PyTorch created by Facebook is also an ope...</td>\n",
       "      <td>{'neg': 0.0, 'neu': 0.923, 'pos': 0.077, 'comp...</td>\n",
       "      <td>0.1280</td>\n",
       "    </tr>\n",
       "    <tr>\n",
       "      <th>2</th>\n",
       "      <td>1617156296871927809</td>\n",
       "      <td>2023-01-22 13:44:41+00:00</td>\n",
       "      <td>swd will worship his body as gently, as passio...</td>\n",
       "      <td>swd will worship his body as gently as passion...</td>\n",
       "      <td>{'neg': 0.0, 'neu': 0.559, 'pos': 0.441, 'comp...</td>\n",
       "      <td>0.9216</td>\n",
       "    </tr>\n",
       "    <tr>\n",
       "      <th>3</th>\n",
       "      <td>1617156293961351171</td>\n",
       "      <td>2023-01-22 13:44:40+00:00</td>\n",
       "      <td>1/7 TensorFlow, created by Google, is a powerf...</td>\n",
       "      <td>1 7 TensorFlow created by Google is a powerful...</td>\n",
       "      <td>{'neg': 0.0, 'neu': 0.605, 'pos': 0.395, 'comp...</td>\n",
       "      <td>0.7346</td>\n",
       "    </tr>\n",
       "    <tr>\n",
       "      <th>4</th>\n",
       "      <td>1617156291423801344</td>\n",
       "      <td>2023-01-22 13:44:39+00:00</td>\n",
       "      <td>#TensorFlow and #PyTorch are both popular open...</td>\n",
       "      <td>TensorFlow and PyTorch are both popular open s...</td>\n",
       "      <td>{'neg': 0.0, 'neu': 0.894, 'pos': 0.106, 'comp...</td>\n",
       "      <td>0.2263</td>\n",
       "    </tr>\n",
       "    <tr>\n",
       "      <th>...</th>\n",
       "      <td>...</td>\n",
       "      <td>...</td>\n",
       "      <td>...</td>\n",
       "      <td>...</td>\n",
       "      <td>...</td>\n",
       "      <td>...</td>\n",
       "    </tr>\n",
       "    <tr>\n",
       "      <th>90</th>\n",
       "      <td>1617072254655037441</td>\n",
       "      <td>2023-01-22 08:10:43+00:00</td>\n",
       "      <td>4️⃣ Keras - a high-level neural networks API w...</td>\n",
       "      <td>4 Keras a high level neural networks API writt...</td>\n",
       "      <td>{'neg': 0.0, 'neu': 1.0, 'pos': 0.0, 'compound...</td>\n",
       "      <td>0.0000</td>\n",
       "    </tr>\n",
       "    <tr>\n",
       "      <th>91</th>\n",
       "      <td>1617072246782332928</td>\n",
       "      <td>2023-01-22 08:10:42+00:00</td>\n",
       "      <td>1️⃣ PyTorch - An open-source machine learning ...</td>\n",
       "      <td>1 PyTorch An open source machine learning libr...</td>\n",
       "      <td>{'neg': 0.0, 'neu': 1.0, 'pos': 0.0, 'compound...</td>\n",
       "      <td>0.0000</td>\n",
       "    </tr>\n",
       "    <tr>\n",
       "      <th>92</th>\n",
       "      <td>1617070853698760704</td>\n",
       "      <td>2023-01-22 08:05:09+00:00</td>\n",
       "      <td>Exploring the Most Popular Machine Learning an...</td>\n",
       "      <td>Exploring the Most Popular Machine Learning an...</td>\n",
       "      <td>{'neg': 0.0, 'neu': 0.764, 'pos': 0.236, 'comp...</td>\n",
       "      <td>0.4754</td>\n",
       "    </tr>\n",
       "    <tr>\n",
       "      <th>93</th>\n",
       "      <td>1617069961708720129</td>\n",
       "      <td>2023-01-22 08:01:37+00:00</td>\n",
       "      <td>There is something about the learning the hist...</td>\n",
       "      <td>There is something about the learning the hist...</td>\n",
       "      <td>{'neg': 0.0, 'neu': 0.878, 'pos': 0.122, 'comp...</td>\n",
       "      <td>0.3612</td>\n",
       "    </tr>\n",
       "    <tr>\n",
       "      <th>94</th>\n",
       "      <td>1617069616601104384</td>\n",
       "      <td>2023-01-22 08:00:14+00:00</td>\n",
       "      <td>One of the most useful and very rare skills no...</td>\n",
       "      <td>One of the most useful and very rare skills no...</td>\n",
       "      <td>{'neg': 0.0, 'neu': 0.873, 'pos': 0.127, 'comp...</td>\n",
       "      <td>0.4927</td>\n",
       "    </tr>\n",
       "  </tbody>\n",
       "</table>\n",
       "<p>95 rows × 6 columns</p>\n",
       "</div>"
      ],
      "text/plain": [
       "               Tweet Id                  Datetime  \\\n",
       "0   1617156645695680513 2023-01-22 13:46:04+00:00   \n",
       "1   1617156300151963650 2023-01-22 13:44:41+00:00   \n",
       "2   1617156296871927809 2023-01-22 13:44:41+00:00   \n",
       "3   1617156293961351171 2023-01-22 13:44:40+00:00   \n",
       "4   1617156291423801344 2023-01-22 13:44:39+00:00   \n",
       "..                  ...                       ...   \n",
       "90  1617072254655037441 2023-01-22 08:10:43+00:00   \n",
       "91  1617072246782332928 2023-01-22 08:10:42+00:00   \n",
       "92  1617070853698760704 2023-01-22 08:05:09+00:00   \n",
       "93  1617069961708720129 2023-01-22 08:01:37+00:00   \n",
       "94  1617069616601104384 2023-01-22 08:00:14+00:00   \n",
       "\n",
       "                                                tweet  \\\n",
       "0   Proposing a deep learning model that uses a no...   \n",
       "1   2/7 PyTorch, created by Facebook, is also an o...   \n",
       "2   swd will worship his body as gently, as passio...   \n",
       "3   1/7 TensorFlow, created by Google, is a powerf...   \n",
       "4   #TensorFlow and #PyTorch are both popular open...   \n",
       "..                                                ...   \n",
       "90  4️⃣ Keras - a high-level neural networks API w...   \n",
       "91  1️⃣ PyTorch - An open-source machine learning ...   \n",
       "92  Exploring the Most Popular Machine Learning an...   \n",
       "93  There is something about the learning the hist...   \n",
       "94  One of the most useful and very rare skills no...   \n",
       "\n",
       "                                           clean_text  \\\n",
       "0   Proposing a deep learning model that uses a no...   \n",
       "1   2 7 PyTorch created by Facebook is also an ope...   \n",
       "2   swd will worship his body as gently as passion...   \n",
       "3   1 7 TensorFlow created by Google is a powerful...   \n",
       "4   TensorFlow and PyTorch are both popular open s...   \n",
       "..                                                ...   \n",
       "90  4 Keras a high level neural networks API writt...   \n",
       "91  1 PyTorch An open source machine learning libr...   \n",
       "92  Exploring the Most Popular Machine Learning an...   \n",
       "93  There is something about the learning the hist...   \n",
       "94  One of the most useful and very rare skills no...   \n",
       "\n",
       "                                                score  compound  \n",
       "0   {'neg': 0.0, 'neu': 0.745, 'pos': 0.255, 'comp...    0.5859  \n",
       "1   {'neg': 0.0, 'neu': 0.923, 'pos': 0.077, 'comp...    0.1280  \n",
       "2   {'neg': 0.0, 'neu': 0.559, 'pos': 0.441, 'comp...    0.9216  \n",
       "3   {'neg': 0.0, 'neu': 0.605, 'pos': 0.395, 'comp...    0.7346  \n",
       "4   {'neg': 0.0, 'neu': 0.894, 'pos': 0.106, 'comp...    0.2263  \n",
       "..                                                ...       ...  \n",
       "90  {'neg': 0.0, 'neu': 1.0, 'pos': 0.0, 'compound...    0.0000  \n",
       "91  {'neg': 0.0, 'neu': 1.0, 'pos': 0.0, 'compound...    0.0000  \n",
       "92  {'neg': 0.0, 'neu': 0.764, 'pos': 0.236, 'comp...    0.4754  \n",
       "93  {'neg': 0.0, 'neu': 0.878, 'pos': 0.122, 'comp...    0.3612  \n",
       "94  {'neg': 0.0, 'neu': 0.873, 'pos': 0.127, 'comp...    0.4927  \n",
       "\n",
       "[95 rows x 6 columns]"
      ]
     },
     "execution_count": 39,
     "metadata": {},
     "output_type": "execute_result"
    }
   ],
   "source": [
    "tweets_df[\"compound\"] = tweets_df[\"score\"].apply(lambda d:d[\"compound\"])\n",
    "tweets_df"
   ]
  },
  {
   "cell_type": "code",
   "execution_count": 40,
   "metadata": {
    "collapsed": true
   },
   "outputs": [
    {
     "data": {
      "text/html": [
       "<div>\n",
       "<style scoped>\n",
       "    .dataframe tbody tr th:only-of-type {\n",
       "        vertical-align: middle;\n",
       "    }\n",
       "\n",
       "    .dataframe tbody tr th {\n",
       "        vertical-align: top;\n",
       "    }\n",
       "\n",
       "    .dataframe thead th {\n",
       "        text-align: right;\n",
       "    }\n",
       "</style>\n",
       "<table border=\"1\" class=\"dataframe\">\n",
       "  <thead>\n",
       "    <tr style=\"text-align: right;\">\n",
       "      <th></th>\n",
       "      <th>Tweet Id</th>\n",
       "      <th>Datetime</th>\n",
       "      <th>tweet</th>\n",
       "      <th>clean_text</th>\n",
       "      <th>score</th>\n",
       "      <th>compound</th>\n",
       "      <th>sentiment</th>\n",
       "    </tr>\n",
       "  </thead>\n",
       "  <tbody>\n",
       "    <tr>\n",
       "      <th>0</th>\n",
       "      <td>1617156645695680513</td>\n",
       "      <td>2023-01-22 13:46:04+00:00</td>\n",
       "      <td>Proposing a deep learning model that uses a no...</td>\n",
       "      <td>Proposing a deep learning model that uses a no...</td>\n",
       "      <td>{'neg': 0.0, 'neu': 0.745, 'pos': 0.255, 'comp...</td>\n",
       "      <td>0.5859</td>\n",
       "      <td>positive</td>\n",
       "    </tr>\n",
       "    <tr>\n",
       "      <th>1</th>\n",
       "      <td>1617156300151963650</td>\n",
       "      <td>2023-01-22 13:44:41+00:00</td>\n",
       "      <td>2/7 PyTorch, created by Facebook, is also an o...</td>\n",
       "      <td>2 7 PyTorch created by Facebook is also an ope...</td>\n",
       "      <td>{'neg': 0.0, 'neu': 0.923, 'pos': 0.077, 'comp...</td>\n",
       "      <td>0.1280</td>\n",
       "      <td>positive</td>\n",
       "    </tr>\n",
       "    <tr>\n",
       "      <th>2</th>\n",
       "      <td>1617156296871927809</td>\n",
       "      <td>2023-01-22 13:44:41+00:00</td>\n",
       "      <td>swd will worship his body as gently, as passio...</td>\n",
       "      <td>swd will worship his body as gently as passion...</td>\n",
       "      <td>{'neg': 0.0, 'neu': 0.559, 'pos': 0.441, 'comp...</td>\n",
       "      <td>0.9216</td>\n",
       "      <td>positive</td>\n",
       "    </tr>\n",
       "    <tr>\n",
       "      <th>3</th>\n",
       "      <td>1617156293961351171</td>\n",
       "      <td>2023-01-22 13:44:40+00:00</td>\n",
       "      <td>1/7 TensorFlow, created by Google, is a powerf...</td>\n",
       "      <td>1 7 TensorFlow created by Google is a powerful...</td>\n",
       "      <td>{'neg': 0.0, 'neu': 0.605, 'pos': 0.395, 'comp...</td>\n",
       "      <td>0.7346</td>\n",
       "      <td>positive</td>\n",
       "    </tr>\n",
       "    <tr>\n",
       "      <th>4</th>\n",
       "      <td>1617156291423801344</td>\n",
       "      <td>2023-01-22 13:44:39+00:00</td>\n",
       "      <td>#TensorFlow and #PyTorch are both popular open...</td>\n",
       "      <td>TensorFlow and PyTorch are both popular open s...</td>\n",
       "      <td>{'neg': 0.0, 'neu': 0.894, 'pos': 0.106, 'comp...</td>\n",
       "      <td>0.2263</td>\n",
       "      <td>positive</td>\n",
       "    </tr>\n",
       "    <tr>\n",
       "      <th>...</th>\n",
       "      <td>...</td>\n",
       "      <td>...</td>\n",
       "      <td>...</td>\n",
       "      <td>...</td>\n",
       "      <td>...</td>\n",
       "      <td>...</td>\n",
       "      <td>...</td>\n",
       "    </tr>\n",
       "    <tr>\n",
       "      <th>90</th>\n",
       "      <td>1617072254655037441</td>\n",
       "      <td>2023-01-22 08:10:43+00:00</td>\n",
       "      <td>4️⃣ Keras - a high-level neural networks API w...</td>\n",
       "      <td>4 Keras a high level neural networks API writt...</td>\n",
       "      <td>{'neg': 0.0, 'neu': 1.0, 'pos': 0.0, 'compound...</td>\n",
       "      <td>0.0000</td>\n",
       "      <td>neutral</td>\n",
       "    </tr>\n",
       "    <tr>\n",
       "      <th>91</th>\n",
       "      <td>1617072246782332928</td>\n",
       "      <td>2023-01-22 08:10:42+00:00</td>\n",
       "      <td>1️⃣ PyTorch - An open-source machine learning ...</td>\n",
       "      <td>1 PyTorch An open source machine learning libr...</td>\n",
       "      <td>{'neg': 0.0, 'neu': 1.0, 'pos': 0.0, 'compound...</td>\n",
       "      <td>0.0000</td>\n",
       "      <td>neutral</td>\n",
       "    </tr>\n",
       "    <tr>\n",
       "      <th>92</th>\n",
       "      <td>1617070853698760704</td>\n",
       "      <td>2023-01-22 08:05:09+00:00</td>\n",
       "      <td>Exploring the Most Popular Machine Learning an...</td>\n",
       "      <td>Exploring the Most Popular Machine Learning an...</td>\n",
       "      <td>{'neg': 0.0, 'neu': 0.764, 'pos': 0.236, 'comp...</td>\n",
       "      <td>0.4754</td>\n",
       "      <td>positive</td>\n",
       "    </tr>\n",
       "    <tr>\n",
       "      <th>93</th>\n",
       "      <td>1617069961708720129</td>\n",
       "      <td>2023-01-22 08:01:37+00:00</td>\n",
       "      <td>There is something about the learning the hist...</td>\n",
       "      <td>There is something about the learning the hist...</td>\n",
       "      <td>{'neg': 0.0, 'neu': 0.878, 'pos': 0.122, 'comp...</td>\n",
       "      <td>0.3612</td>\n",
       "      <td>positive</td>\n",
       "    </tr>\n",
       "    <tr>\n",
       "      <th>94</th>\n",
       "      <td>1617069616601104384</td>\n",
       "      <td>2023-01-22 08:00:14+00:00</td>\n",
       "      <td>One of the most useful and very rare skills no...</td>\n",
       "      <td>One of the most useful and very rare skills no...</td>\n",
       "      <td>{'neg': 0.0, 'neu': 0.873, 'pos': 0.127, 'comp...</td>\n",
       "      <td>0.4927</td>\n",
       "      <td>positive</td>\n",
       "    </tr>\n",
       "  </tbody>\n",
       "</table>\n",
       "<p>95 rows × 7 columns</p>\n",
       "</div>"
      ],
      "text/plain": [
       "               Tweet Id                  Datetime  \\\n",
       "0   1617156645695680513 2023-01-22 13:46:04+00:00   \n",
       "1   1617156300151963650 2023-01-22 13:44:41+00:00   \n",
       "2   1617156296871927809 2023-01-22 13:44:41+00:00   \n",
       "3   1617156293961351171 2023-01-22 13:44:40+00:00   \n",
       "4   1617156291423801344 2023-01-22 13:44:39+00:00   \n",
       "..                  ...                       ...   \n",
       "90  1617072254655037441 2023-01-22 08:10:43+00:00   \n",
       "91  1617072246782332928 2023-01-22 08:10:42+00:00   \n",
       "92  1617070853698760704 2023-01-22 08:05:09+00:00   \n",
       "93  1617069961708720129 2023-01-22 08:01:37+00:00   \n",
       "94  1617069616601104384 2023-01-22 08:00:14+00:00   \n",
       "\n",
       "                                                tweet  \\\n",
       "0   Proposing a deep learning model that uses a no...   \n",
       "1   2/7 PyTorch, created by Facebook, is also an o...   \n",
       "2   swd will worship his body as gently, as passio...   \n",
       "3   1/7 TensorFlow, created by Google, is a powerf...   \n",
       "4   #TensorFlow and #PyTorch are both popular open...   \n",
       "..                                                ...   \n",
       "90  4️⃣ Keras - a high-level neural networks API w...   \n",
       "91  1️⃣ PyTorch - An open-source machine learning ...   \n",
       "92  Exploring the Most Popular Machine Learning an...   \n",
       "93  There is something about the learning the hist...   \n",
       "94  One of the most useful and very rare skills no...   \n",
       "\n",
       "                                           clean_text  \\\n",
       "0   Proposing a deep learning model that uses a no...   \n",
       "1   2 7 PyTorch created by Facebook is also an ope...   \n",
       "2   swd will worship his body as gently as passion...   \n",
       "3   1 7 TensorFlow created by Google is a powerful...   \n",
       "4   TensorFlow and PyTorch are both popular open s...   \n",
       "..                                                ...   \n",
       "90  4 Keras a high level neural networks API writt...   \n",
       "91  1 PyTorch An open source machine learning libr...   \n",
       "92  Exploring the Most Popular Machine Learning an...   \n",
       "93  There is something about the learning the hist...   \n",
       "94  One of the most useful and very rare skills no...   \n",
       "\n",
       "                                                score  compound sentiment  \n",
       "0   {'neg': 0.0, 'neu': 0.745, 'pos': 0.255, 'comp...    0.5859  positive  \n",
       "1   {'neg': 0.0, 'neu': 0.923, 'pos': 0.077, 'comp...    0.1280  positive  \n",
       "2   {'neg': 0.0, 'neu': 0.559, 'pos': 0.441, 'comp...    0.9216  positive  \n",
       "3   {'neg': 0.0, 'neu': 0.605, 'pos': 0.395, 'comp...    0.7346  positive  \n",
       "4   {'neg': 0.0, 'neu': 0.894, 'pos': 0.106, 'comp...    0.2263  positive  \n",
       "..                                                ...       ...       ...  \n",
       "90  {'neg': 0.0, 'neu': 1.0, 'pos': 0.0, 'compound...    0.0000   neutral  \n",
       "91  {'neg': 0.0, 'neu': 1.0, 'pos': 0.0, 'compound...    0.0000   neutral  \n",
       "92  {'neg': 0.0, 'neu': 0.764, 'pos': 0.236, 'comp...    0.4754  positive  \n",
       "93  {'neg': 0.0, 'neu': 0.878, 'pos': 0.122, 'comp...    0.3612  positive  \n",
       "94  {'neg': 0.0, 'neu': 0.873, 'pos': 0.127, 'comp...    0.4927  positive  \n",
       "\n",
       "[95 rows x 7 columns]"
      ]
     },
     "execution_count": 40,
     "metadata": {},
     "output_type": "execute_result"
    }
   ],
   "source": [
    "tweets_df[\"sentiment\"] = tweets_df[\"compound\"].apply(lambda  score : get_tweet_sentiment(score))\n",
    "tweets_df"
   ]
  },
  {
   "cell_type": "code",
   "execution_count": 41,
   "metadata": {},
   "outputs": [],
   "source": [
    "del tweets_df[\"score\"]\n",
    "del tweets_df[\"compound\"]"
   ]
  },
  {
   "cell_type": "code",
   "execution_count": 42,
   "metadata": {},
   "outputs": [
    {
     "data": {
      "text/html": [
       "<div>\n",
       "<style scoped>\n",
       "    .dataframe tbody tr th:only-of-type {\n",
       "        vertical-align: middle;\n",
       "    }\n",
       "\n",
       "    .dataframe tbody tr th {\n",
       "        vertical-align: top;\n",
       "    }\n",
       "\n",
       "    .dataframe thead th {\n",
       "        text-align: right;\n",
       "    }\n",
       "</style>\n",
       "<table border=\"1\" class=\"dataframe\">\n",
       "  <thead>\n",
       "    <tr style=\"text-align: right;\">\n",
       "      <th></th>\n",
       "      <th>Tweet Id</th>\n",
       "      <th>Datetime</th>\n",
       "      <th>tweet</th>\n",
       "      <th>clean_text</th>\n",
       "      <th>sentiment</th>\n",
       "    </tr>\n",
       "  </thead>\n",
       "  <tbody>\n",
       "    <tr>\n",
       "      <th>0</th>\n",
       "      <td>1617156645695680513</td>\n",
       "      <td>2023-01-22 13:46:04+00:00</td>\n",
       "      <td>Proposing a deep learning model that uses a no...</td>\n",
       "      <td>Proposing a deep learning model that uses a no...</td>\n",
       "      <td>positive</td>\n",
       "    </tr>\n",
       "    <tr>\n",
       "      <th>1</th>\n",
       "      <td>1617156300151963650</td>\n",
       "      <td>2023-01-22 13:44:41+00:00</td>\n",
       "      <td>2/7 PyTorch, created by Facebook, is also an o...</td>\n",
       "      <td>2 7 PyTorch created by Facebook is also an ope...</td>\n",
       "      <td>positive</td>\n",
       "    </tr>\n",
       "    <tr>\n",
       "      <th>2</th>\n",
       "      <td>1617156296871927809</td>\n",
       "      <td>2023-01-22 13:44:41+00:00</td>\n",
       "      <td>swd will worship his body as gently, as passio...</td>\n",
       "      <td>swd will worship his body as gently as passion...</td>\n",
       "      <td>positive</td>\n",
       "    </tr>\n",
       "    <tr>\n",
       "      <th>3</th>\n",
       "      <td>1617156293961351171</td>\n",
       "      <td>2023-01-22 13:44:40+00:00</td>\n",
       "      <td>1/7 TensorFlow, created by Google, is a powerf...</td>\n",
       "      <td>1 7 TensorFlow created by Google is a powerful...</td>\n",
       "      <td>positive</td>\n",
       "    </tr>\n",
       "    <tr>\n",
       "      <th>4</th>\n",
       "      <td>1617156291423801344</td>\n",
       "      <td>2023-01-22 13:44:39+00:00</td>\n",
       "      <td>#TensorFlow and #PyTorch are both popular open...</td>\n",
       "      <td>TensorFlow and PyTorch are both popular open s...</td>\n",
       "      <td>positive</td>\n",
       "    </tr>\n",
       "  </tbody>\n",
       "</table>\n",
       "</div>"
      ],
      "text/plain": [
       "              Tweet Id                  Datetime  \\\n",
       "0  1617156645695680513 2023-01-22 13:46:04+00:00   \n",
       "1  1617156300151963650 2023-01-22 13:44:41+00:00   \n",
       "2  1617156296871927809 2023-01-22 13:44:41+00:00   \n",
       "3  1617156293961351171 2023-01-22 13:44:40+00:00   \n",
       "4  1617156291423801344 2023-01-22 13:44:39+00:00   \n",
       "\n",
       "                                               tweet  \\\n",
       "0  Proposing a deep learning model that uses a no...   \n",
       "1  2/7 PyTorch, created by Facebook, is also an o...   \n",
       "2  swd will worship his body as gently, as passio...   \n",
       "3  1/7 TensorFlow, created by Google, is a powerf...   \n",
       "4  #TensorFlow and #PyTorch are both popular open...   \n",
       "\n",
       "                                          clean_text sentiment  \n",
       "0  Proposing a deep learning model that uses a no...  positive  \n",
       "1  2 7 PyTorch created by Facebook is also an ope...  positive  \n",
       "2  swd will worship his body as gently as passion...  positive  \n",
       "3  1 7 TensorFlow created by Google is a powerful...  positive  \n",
       "4  TensorFlow and PyTorch are both popular open s...  positive  "
      ]
     },
     "execution_count": 42,
     "metadata": {},
     "output_type": "execute_result"
    }
   ],
   "source": [
    "tweets_df.head()"
   ]
  },
  {
   "cell_type": "code",
   "execution_count": 43,
   "metadata": {},
   "outputs": [],
   "source": [
    "tweets = []\n",
    "\n",
    "def text_query_to_csv(text_query,count=200):\n",
    "    try:\n",
    "        \n",
    "        query = text_query + \" \" + \"-filter:retweets\"\n",
    "        # Creation of query method using parameters\n",
    "        tweets = api.search_tweets(q=query, lang=\"en\", count=count)\n",
    "\n",
    "        # Pulling information from tweets iterable object\n",
    "        tweets_list = [[ tweet.id, tweet.created_at, tweet.text] for tweet in tweets]\n",
    "        \n",
    "    \n",
    "        # Creation of dataframe from tweets list\n",
    "        # Add or remove columns as you remove tweet information\n",
    "        tweets_df = pd.DataFrame(tweets_list,columns=['Tweet Id', 'Datetime', 'tweet'])\n",
    "        \n",
    "        # clean tweet \n",
    "        tweets_df[\"clean_text\"] = tweets_df[\"tweet\"].apply(lambda tweet: clean_tweet(tweet))\n",
    "        \n",
    "        tweets_df[\"score\"] = tweets_df[\"clean_text\"].apply(lambda review:sid.polarity_scores(review))\n",
    "        \n",
    "        tweets_df[\"compound\"] = tweets_df[\"score\"].apply(lambda d:d[\"compound\"])\n",
    "        tweets_df[\"sentiment\"] = tweets_df[\"compound\"].apply(lambda  score : get_tweet_sentiment(score))\n",
    "        \n",
    "        del tweets_df[\"score\"]\n",
    "        del tweets_df[\"compound\"]\n",
    "        \n",
    "      \n",
    "        return tweets_df\n",
    "\n",
    "    except BaseException as e:\n",
    "        print('failed on_status,',str(e))\n",
    "        time.sleep(3)"
   ]
  },
  {
   "cell_type": "markdown",
   "metadata": {},
   "source": [
    "# Amazon India"
   ]
  },
  {
   "cell_type": "code",
   "execution_count": 44,
   "metadata": {},
   "outputs": [],
   "source": [
    "amazon_india = text_query_to_csv(\"amazon india\") # 3000"
   ]
  },
  {
   "cell_type": "code",
   "execution_count": 45,
   "metadata": {},
   "outputs": [
    {
     "data": {
      "text/html": [
       "<div>\n",
       "<style scoped>\n",
       "    .dataframe tbody tr th:only-of-type {\n",
       "        vertical-align: middle;\n",
       "    }\n",
       "\n",
       "    .dataframe tbody tr th {\n",
       "        vertical-align: top;\n",
       "    }\n",
       "\n",
       "    .dataframe thead th {\n",
       "        text-align: right;\n",
       "    }\n",
       "</style>\n",
       "<table border=\"1\" class=\"dataframe\">\n",
       "  <thead>\n",
       "    <tr style=\"text-align: right;\">\n",
       "      <th></th>\n",
       "      <th>Tweet Id</th>\n",
       "      <th>Datetime</th>\n",
       "      <th>tweet</th>\n",
       "      <th>clean_text</th>\n",
       "      <th>sentiment</th>\n",
       "    </tr>\n",
       "  </thead>\n",
       "  <tbody>\n",
       "    <tr>\n",
       "      <th>0</th>\n",
       "      <td>1617155936891592704</td>\n",
       "      <td>2023-01-22 13:43:15+00:00</td>\n",
       "      <td>After a bloody air battle, an Indian fighter p...</td>\n",
       "      <td>After a bloody air battle an Indian fighter pi...</td>\n",
       "      <td>negative</td>\n",
       "    </tr>\n",
       "    <tr>\n",
       "      <th>1</th>\n",
       "      <td>1617154753644879874</td>\n",
       "      <td>2023-01-22 13:38:33+00:00</td>\n",
       "      <td>India and Faraway Lands at #1 on New Releases ...</td>\n",
       "      <td>India and Faraway Lands at 1 on New Releases i...</td>\n",
       "      <td>positive</td>\n",
       "    </tr>\n",
       "    <tr>\n",
       "      <th>2</th>\n",
       "      <td>1617150607068114946</td>\n",
       "      <td>2023-01-22 13:22:04+00:00</td>\n",
       "      <td>MINITATU Girls Clothing Set For Rs. 276 @ 75 %...</td>\n",
       "      <td>MINITATU Girls Clothing Set For Rs 276 75 Indi...</td>\n",
       "      <td>neutral</td>\n",
       "    </tr>\n",
       "    <tr>\n",
       "      <th>3</th>\n",
       "      <td>1617149713773649926</td>\n",
       "      <td>2023-01-22 13:18:31+00:00</td>\n",
       "      <td>@A_DiAngelo Soul's Despair by Vivek Bhanot\\nIn...</td>\n",
       "      <td>DiAngelo Soul s Despair by Vivek Bhanot India ...</td>\n",
       "      <td>negative</td>\n",
       "    </tr>\n",
       "    <tr>\n",
       "      <th>4</th>\n",
       "      <td>1617149175719944198</td>\n",
       "      <td>2023-01-22 13:16:23+00:00</td>\n",
       "      <td>@panda_editing Soul's Despair by Vivek Bhanot\\...</td>\n",
       "      <td>editing Soul s Despair by Vivek Bhanot India U...</td>\n",
       "      <td>negative</td>\n",
       "    </tr>\n",
       "    <tr>\n",
       "      <th>5</th>\n",
       "      <td>1617148955741270017</td>\n",
       "      <td>2023-01-22 13:15:30+00:00</td>\n",
       "      <td>@EricPellinen Soul's Despair by Vivek Bhanot\\n...</td>\n",
       "      <td>Soul s Despair by Vivek Bhanot India USA UK</td>\n",
       "      <td>negative</td>\n",
       "    </tr>\n",
       "    <tr>\n",
       "      <th>6</th>\n",
       "      <td>1617148068713103361</td>\n",
       "      <td>2023-01-22 13:11:59+00:00</td>\n",
       "      <td>@valeriepenny @Ivyloganauthor @kady54033 @juli...</td>\n",
       "      <td>author ainihi donovan</td>\n",
       "      <td>neutral</td>\n",
       "    </tr>\n",
       "    <tr>\n",
       "      <th>7</th>\n",
       "      <td>1617144940798017536</td>\n",
       "      <td>2023-01-22 12:59:33+00:00</td>\n",
       "      <td>Temptations of the West: How to Be Modern in I...</td>\n",
       "      <td>Temptations of the West How to Be Modern in In...</td>\n",
       "      <td>neutral</td>\n",
       "    </tr>\n",
       "    <tr>\n",
       "      <th>8</th>\n",
       "      <td>1617144934284333056</td>\n",
       "      <td>2023-01-22 12:59:32+00:00</td>\n",
       "      <td>Insight Guides Pocket India (Travel Guide with...</td>\n",
       "      <td>Insight Guides Pocket India Travel Guide with ...</td>\n",
       "      <td>positive</td>\n",
       "    </tr>\n",
       "    <tr>\n",
       "      <th>9</th>\n",
       "      <td>1617143924975620103</td>\n",
       "      <td>2023-01-22 12:55:31+00:00</td>\n",
       "      <td>@Saddletramp1951 Soul's Despair by Vivek Bhano...</td>\n",
       "      <td>Soul s Despair by Vivek Bhanot India USA UK</td>\n",
       "      <td>negative</td>\n",
       "    </tr>\n",
       "  </tbody>\n",
       "</table>\n",
       "</div>"
      ],
      "text/plain": [
       "              Tweet Id                  Datetime  \\\n",
       "0  1617155936891592704 2023-01-22 13:43:15+00:00   \n",
       "1  1617154753644879874 2023-01-22 13:38:33+00:00   \n",
       "2  1617150607068114946 2023-01-22 13:22:04+00:00   \n",
       "3  1617149713773649926 2023-01-22 13:18:31+00:00   \n",
       "4  1617149175719944198 2023-01-22 13:16:23+00:00   \n",
       "5  1617148955741270017 2023-01-22 13:15:30+00:00   \n",
       "6  1617148068713103361 2023-01-22 13:11:59+00:00   \n",
       "7  1617144940798017536 2023-01-22 12:59:33+00:00   \n",
       "8  1617144934284333056 2023-01-22 12:59:32+00:00   \n",
       "9  1617143924975620103 2023-01-22 12:55:31+00:00   \n",
       "\n",
       "                                               tweet  \\\n",
       "0  After a bloody air battle, an Indian fighter p...   \n",
       "1  India and Faraway Lands at #1 on New Releases ...   \n",
       "2  MINITATU Girls Clothing Set For Rs. 276 @ 75 %...   \n",
       "3  @A_DiAngelo Soul's Despair by Vivek Bhanot\\nIn...   \n",
       "4  @panda_editing Soul's Despair by Vivek Bhanot\\...   \n",
       "5  @EricPellinen Soul's Despair by Vivek Bhanot\\n...   \n",
       "6  @valeriepenny @Ivyloganauthor @kady54033 @juli...   \n",
       "7  Temptations of the West: How to Be Modern in I...   \n",
       "8  Insight Guides Pocket India (Travel Guide with...   \n",
       "9  @Saddletramp1951 Soul's Despair by Vivek Bhano...   \n",
       "\n",
       "                                          clean_text sentiment  \n",
       "0  After a bloody air battle an Indian fighter pi...  negative  \n",
       "1  India and Faraway Lands at 1 on New Releases i...  positive  \n",
       "2  MINITATU Girls Clothing Set For Rs 276 75 Indi...   neutral  \n",
       "3  DiAngelo Soul s Despair by Vivek Bhanot India ...  negative  \n",
       "4  editing Soul s Despair by Vivek Bhanot India U...  negative  \n",
       "5        Soul s Despair by Vivek Bhanot India USA UK  negative  \n",
       "6                              author ainihi donovan   neutral  \n",
       "7  Temptations of the West How to Be Modern in In...   neutral  \n",
       "8  Insight Guides Pocket India Travel Guide with ...  positive  \n",
       "9        Soul s Despair by Vivek Bhanot India USA UK  negative  "
      ]
     },
     "execution_count": 45,
     "metadata": {},
     "output_type": "execute_result"
    }
   ],
   "source": [
    "amazon_india.head(10)"
   ]
  },
  {
   "cell_type": "code",
   "execution_count": null,
   "metadata": {},
   "outputs": [],
   "source": [
    "amazon_india.to_csv('{}-tweets.csv'.format(\"amazon_india\"), sep=',', index = False)"
   ]
  },
  {
   "cell_type": "code",
   "execution_count": 46,
   "metadata": {},
   "outputs": [
    {
     "data": {
      "text/plain": [
       "(100, 5)"
      ]
     },
     "execution_count": 46,
     "metadata": {},
     "output_type": "execute_result"
    }
   ],
   "source": [
    "amazon_india.shape"
   ]
  },
  {
   "cell_type": "code",
   "execution_count": null,
   "metadata": {},
   "outputs": [],
   "source": []
  },
  {
   "cell_type": "markdown",
   "metadata": {},
   "source": [
    "# Flipkart"
   ]
  },
  {
   "cell_type": "code",
   "execution_count": 47,
   "metadata": {},
   "outputs": [],
   "source": [
    "flipkart = text_query_to_csv(\"chatgpt\", 150) # 15mins time to compelte"
   ]
  },
  {
   "cell_type": "code",
   "execution_count": 48,
   "metadata": {
    "collapsed": true
   },
   "outputs": [
    {
     "data": {
      "text/html": [
       "<div>\n",
       "<style scoped>\n",
       "    .dataframe tbody tr th:only-of-type {\n",
       "        vertical-align: middle;\n",
       "    }\n",
       "\n",
       "    .dataframe tbody tr th {\n",
       "        vertical-align: top;\n",
       "    }\n",
       "\n",
       "    .dataframe thead th {\n",
       "        text-align: right;\n",
       "    }\n",
       "</style>\n",
       "<table border=\"1\" class=\"dataframe\">\n",
       "  <thead>\n",
       "    <tr style=\"text-align: right;\">\n",
       "      <th></th>\n",
       "      <th>Tweet Id</th>\n",
       "      <th>Datetime</th>\n",
       "      <th>tweet</th>\n",
       "      <th>clean_text</th>\n",
       "      <th>sentiment</th>\n",
       "    </tr>\n",
       "  </thead>\n",
       "  <tbody>\n",
       "    <tr>\n",
       "      <th>0</th>\n",
       "      <td>1617158767707054080</td>\n",
       "      <td>2023-01-22 13:54:30+00:00</td>\n",
       "      <td>ChatGPT is too political and doesn't want to t...</td>\n",
       "      <td>ChatGPT is too political and doesn t want to t...</td>\n",
       "      <td>negative</td>\n",
       "    </tr>\n",
       "    <tr>\n",
       "      <th>1</th>\n",
       "      <td>1617158759545020416</td>\n",
       "      <td>2023-01-22 13:54:28+00:00</td>\n",
       "      <td>@nabeelqu If they were really smart, would the...</td>\n",
       "      <td>If they were really smart would they need Chat...</td>\n",
       "      <td>positive</td>\n",
       "    </tr>\n",
       "    <tr>\n",
       "      <th>2</th>\n",
       "      <td>1617158759196901378</td>\n",
       "      <td>2023-01-22 13:54:28+00:00</td>\n",
       "      <td>@ShiLLin_ViLLian I use @OpenAI ChatGPT every D...</td>\n",
       "      <td>ViLLian I use ChatGPT every Day My Google usag...</td>\n",
       "      <td>positive</td>\n",
       "    </tr>\n",
       "    <tr>\n",
       "      <th>3</th>\n",
       "      <td>1617158710643785730</td>\n",
       "      <td>2023-01-22 13:54:16+00:00</td>\n",
       "      <td>Rip free #chatGPT😂😂 https://t.co/qT31syeCf6</td>\n",
       "      <td>Rip free chatGPT</td>\n",
       "      <td>positive</td>\n",
       "    </tr>\n",
       "    <tr>\n",
       "      <th>4</th>\n",
       "      <td>1617158709779603458</td>\n",
       "      <td>2023-01-22 13:54:16+00:00</td>\n",
       "      <td>Exactly. The danger is we’ll be suffocated und...</td>\n",
       "      <td>Exactly The danger is we ll be suffocated unde...</td>\n",
       "      <td>negative</td>\n",
       "    </tr>\n",
       "    <tr>\n",
       "      <th>5</th>\n",
       "      <td>1617158690586648578</td>\n",
       "      <td>2023-01-22 13:54:11+00:00</td>\n",
       "      <td>Can you take new AI tech #ChatGPT seriously if...</td>\n",
       "      <td>Can you take new AI tech ChatGPT seriously if ...</td>\n",
       "      <td>negative</td>\n",
       "    </tr>\n",
       "    <tr>\n",
       "      <th>6</th>\n",
       "      <td>1617158678720675840</td>\n",
       "      <td>2023-01-22 13:54:09+00:00</td>\n",
       "      <td>PPS: what's on my screen https://t.co/hD5ZZo9x...</td>\n",
       "      <td>PPS what s on my screen on Alpha</td>\n",
       "      <td>neutral</td>\n",
       "    </tr>\n",
       "    <tr>\n",
       "      <th>7</th>\n",
       "      <td>1617158669510103041</td>\n",
       "      <td>2023-01-22 13:54:06+00:00</td>\n",
       "      <td>How is you experience with ChatGPT? Is it wort...</td>\n",
       "      <td>How is you experience with ChatGPT Is it worth it</td>\n",
       "      <td>positive</td>\n",
       "    </tr>\n",
       "    <tr>\n",
       "      <th>8</th>\n",
       "      <td>1617158592221810688</td>\n",
       "      <td>2023-01-22 13:53:48+00:00</td>\n",
       "      <td>@elonmusk @cb_doge chatGPT will write the next...</td>\n",
       "      <td>doge chatGPT will write the next twitter next ...</td>\n",
       "      <td>neutral</td>\n",
       "    </tr>\n",
       "    <tr>\n",
       "      <th>9</th>\n",
       "      <td>1617158548605251587</td>\n",
       "      <td>2023-01-22 13:53:37+00:00</td>\n",
       "      <td>@5mintalkaysh I have started building my own c...</td>\n",
       "      <td>I have started building my own custom ChatGPT ...</td>\n",
       "      <td>positive</td>\n",
       "    </tr>\n",
       "  </tbody>\n",
       "</table>\n",
       "</div>"
      ],
      "text/plain": [
       "              Tweet Id                  Datetime  \\\n",
       "0  1617158767707054080 2023-01-22 13:54:30+00:00   \n",
       "1  1617158759545020416 2023-01-22 13:54:28+00:00   \n",
       "2  1617158759196901378 2023-01-22 13:54:28+00:00   \n",
       "3  1617158710643785730 2023-01-22 13:54:16+00:00   \n",
       "4  1617158709779603458 2023-01-22 13:54:16+00:00   \n",
       "5  1617158690586648578 2023-01-22 13:54:11+00:00   \n",
       "6  1617158678720675840 2023-01-22 13:54:09+00:00   \n",
       "7  1617158669510103041 2023-01-22 13:54:06+00:00   \n",
       "8  1617158592221810688 2023-01-22 13:53:48+00:00   \n",
       "9  1617158548605251587 2023-01-22 13:53:37+00:00   \n",
       "\n",
       "                                               tweet  \\\n",
       "0  ChatGPT is too political and doesn't want to t...   \n",
       "1  @nabeelqu If they were really smart, would the...   \n",
       "2  @ShiLLin_ViLLian I use @OpenAI ChatGPT every D...   \n",
       "3        Rip free #chatGPT😂😂 https://t.co/qT31syeCf6   \n",
       "4  Exactly. The danger is we’ll be suffocated und...   \n",
       "5  Can you take new AI tech #ChatGPT seriously if...   \n",
       "6  PPS: what's on my screen https://t.co/hD5ZZo9x...   \n",
       "7  How is you experience with ChatGPT? Is it wort...   \n",
       "8  @elonmusk @cb_doge chatGPT will write the next...   \n",
       "9  @5mintalkaysh I have started building my own c...   \n",
       "\n",
       "                                          clean_text sentiment  \n",
       "0  ChatGPT is too political and doesn t want to t...  negative  \n",
       "1  If they were really smart would they need Chat...  positive  \n",
       "2  ViLLian I use ChatGPT every Day My Google usag...  positive  \n",
       "3                                   Rip free chatGPT  positive  \n",
       "4  Exactly The danger is we ll be suffocated unde...  negative  \n",
       "5  Can you take new AI tech ChatGPT seriously if ...  negative  \n",
       "6                   PPS what s on my screen on Alpha   neutral  \n",
       "7  How is you experience with ChatGPT Is it worth it  positive  \n",
       "8  doge chatGPT will write the next twitter next ...   neutral  \n",
       "9  I have started building my own custom ChatGPT ...  positive  "
      ]
     },
     "execution_count": 48,
     "metadata": {},
     "output_type": "execute_result"
    }
   ],
   "source": [
    "flipkart.head(10)"
   ]
  },
  {
   "cell_type": "code",
   "execution_count": null,
   "metadata": {},
   "outputs": [],
   "source": [
    "flipkart.to_csv('{}-tweets.csv'.format(\"flipkart\"), sep=',', index = False)"
   ]
  },
  {
   "cell_type": "code",
   "execution_count": null,
   "metadata": {},
   "outputs": [],
   "source": [
    "flipkart.shape"
   ]
  },
  {
   "cell_type": "markdown",
   "metadata": {},
   "source": [
    "# snapdeal"
   ]
  },
  {
   "cell_type": "code",
   "execution_count": null,
   "metadata": {},
   "outputs": [],
   "source": [
    "snapdeal = text_query_to_csv(\"snapdeal\", 250) # 15mins time to compelte"
   ]
  },
  {
   "cell_type": "code",
   "execution_count": null,
   "metadata": {},
   "outputs": [],
   "source": [
    "snapdeal.head(10)"
   ]
  },
  {
   "cell_type": "code",
   "execution_count": null,
   "metadata": {},
   "outputs": [],
   "source": [
    "snapdeal.to_csv('{}-tweets.csv'.format(\"snapdeal\"), sep=',', index = False)"
   ]
  },
  {
   "cell_type": "code",
   "execution_count": null,
   "metadata": {},
   "outputs": [],
   "source": [
    "snapdeal.shape"
   ]
  },
  {
   "cell_type": "markdown",
   "metadata": {},
   "source": [
    "---"
   ]
  },
  {
   "cell_type": "code",
   "execution_count": 49,
   "metadata": {},
   "outputs": [
    {
     "name": "stdout",
     "output_type": "stream",
     "text": [
      "\n",
      "For Amazon India...\n",
      "Positive tweets percentage: 40.0 %\n",
      "Negative tweets percentage: 23.0 %\n",
      "Neutral tweets percentage: 37.0 %\n"
     ]
    },
    {
     "data": {
      "image/png": "[encoded data removed]",
      "text/plain": [
       "<Figure size 432x288 with 1 Axes>"
      ]
     },
     "metadata": {
      "needs_background": "light"
     },
     "output_type": "display_data"
    }
   ],
   "source": [
    "ax = sns.countplot(x=\"sentiment\", data=amazon_india)\n",
    "plt.ylim(0, amazon_india.shape[0])\n",
    "plt.title(\"Amazon India\")\n",
    "print()\n",
    "\n",
    "pos = round(amazon_india[\"sentiment\"].value_counts()[0]/len(amazon_india) * 100, 2)\n",
    "neu = round(amazon_india[\"sentiment\"].value_counts()[1]/len(amazon_india) * 100, 2)\n",
    "neg = round(amazon_india[\"sentiment\"].value_counts()[2]/len(amazon_india) * 100, 2)\n",
    "print(\"For Amazon India...\")\n",
    "print('Positive tweets percentage: {} %'.format(pos))\n",
    "print('Negative tweets percentage: {} %'.format(neg))\n",
    "print('Neutral tweets percentage: {} %'.format(neu))"
   ]
  },
  {
   "cell_type": "code",
   "execution_count": 50,
   "metadata": {},
   "outputs": [
    {
     "name": "stdout",
     "output_type": "stream",
     "text": [
      "\n",
      "For flipkart ...\n",
      "Positive tweets percentage: 44.0 %\n",
      "Negative tweets percentage: 24.0 %\n",
      "Neutral tweets percentage: 32.0 %\n"
     ]
    },
    {
     "data": {
      "image/png": "[encoded data removed]",
      "text/plain": [
       "<Figure size 432x288 with 1 Axes>"
      ]
     },
     "metadata": {
      "needs_background": "light"
     },
     "output_type": "display_data"
    }
   ],
   "source": [
    "ax = sns.countplot(x=\"sentiment\", data=flipkart)\n",
    "plt.ylim(0, flipkart.shape[0])\n",
    "plt.title(\"flipkart\")\n",
    "print()\n",
    "\n",
    "pos = round(flipkart[\"sentiment\"].value_counts()[0]/len(flipkart) * 100, 2)\n",
    "neu = round(flipkart[\"sentiment\"].value_counts()[1]/len(flipkart) * 100, 2)\n",
    "neg = round(flipkart[\"sentiment\"].value_counts()[2]/len(flipkart) * 100, 2)\n",
    "print(\"For flipkart ...\")\n",
    "print('Positive tweets percentage: {} %'.format(pos))\n",
    "print('Negative tweets percentage: {} %'.format(neg))\n",
    "print('Neutral tweets percentage: {} %'.format(neu))"
   ]
  },
  {
   "cell_type": "code",
   "execution_count": null,
   "metadata": {},
   "outputs": [],
   "source": [
    "ax = sns.countplot(x=\"sentiment\", data=snapdeal)\n",
    "plt.ylim(0, snapdeal.shape[0])\n",
    "plt.title(\"snapdeal\")\n",
    "print()\n",
    "\n",
    "pos = round(snapdeal[\"sentiment\"].value_counts()[0]/len(snapdeal) * 100, 2)\n",
    "neu = round(snapdeal[\"sentiment\"].value_counts()[1]/len(snapdeal) * 100, 2)\n",
    "neg = round(snapdeal[\"sentiment\"].value_counts()[2]/len(snapdeal) * 100, 2)\n",
    "print(\"For snapdeal ...\")\n",
    "print('Positive tweets percentage: {} %'.format(pos))\n",
    "print('Negative tweets percentage: {} %'.format(neg))\n",
    "print('Neutral tweets percentage: {} %'.format(neu))"
   ]
  },
  {
   "cell_type": "code",
   "execution_count": null,
   "metadata": {},
   "outputs": [],
   "source": []
  },
  {
   "cell_type": "code",
   "execution_count": null,
   "metadata": {},
   "outputs": [],
   "source": []
  },
  {
   "cell_type": "code",
   "execution_count": null,
   "metadata": {},
   "outputs": [],
   "source": []
  }
 ],
 "metadata": {
  "kernelspec": {
   "display_name": "Python 3",
   "language": "python",
   "name": "python3"
  },
  "language_info": {
   "codemirror_mode": {
    "name": "ipython",
    "version": 3
   },
   "file_extension": ".py",
   "mimetype": "text/x-python",
   "name": "python",
   "nbconvert_exporter": "python",
   "pygments_lexer": "ipython3",
   "version": "3.7.6"
  }
 },
 "nbformat": 4,
 "nbformat_minor": 4
}
