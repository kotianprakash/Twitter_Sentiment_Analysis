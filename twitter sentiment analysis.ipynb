{
 "cells": [
  {
   "cell_type": "code",
   "execution_count": 1,
   "metadata": {},
   "outputs": [],
   "source": [
    "import pandas as pd \n",
    "import numpy as np\n",
    "import seaborn as sns\n",
    "import matplotlib.pyplot as plt\n",
    "import matplotlib.gridspec as gridspec\n",
    "\n",
    "%matplotlib inline"
   ]
  },
  {
   "cell_type": "code",
   "execution_count": 2,
   "metadata": {},
   "outputs": [],
   "source": [
    "#Supress warnings\n",
    "\n",
    "import warnings\n",
    "warnings.filterwarnings('ignore')\n",
    "\n",
    "\n",
    "pd.set_option('display.max_columns',None)"
   ]
  },
  {
   "cell_type": "code",
   "execution_count": 8,
   "metadata": {},
   "outputs": [],
   "source": [
    "\n",
    "# Pip install Tweepy if you don't already have the package\n",
    "# pip install tweepy\n",
    "\n",
    "# Imports\n",
    "import tweepy\n",
    "import pandas as pd\n",
    "import time\n",
    "import re \n",
    "from tweepy import OAuthHandler \n",
    "from textblob import TextBlob "
   ]
  },
  {
   "cell_type": "code",
   "execution_count": 9,
   "metadata": {},
   "outputs": [],
   "source": [
    "import spacy"
   ]
  },
  {
   "cell_type": "code",
   "execution_count": 10,
   "metadata": {},
   "outputs": [
    {
     "data": {
      "text/plain": [
       "'3.5.0'"
      ]
     },
     "execution_count": 10,
     "metadata": {},
     "output_type": "execute_result"
    }
   ],
   "source": [
    "spacy.__version__"
   ]
  },
  {
   "cell_type": "code",
   "execution_count": 11,
   "metadata": {},
   "outputs": [],
   "source": [
    "import nltk"
   ]
  },
  {
   "cell_type": "code",
   "execution_count": 12,
   "metadata": {
    "scrolled": true
   },
   "outputs": [
    {
     "name": "stderr",
     "output_type": "stream",
     "text": [
      "[nltk_data] Downloading package vader_lexicon to C:\\Users\\prakash\n",
      "[nltk_data]     kotian\\AppData\\Roaming\\nltk_data...\n"
     ]
    },
    {
     "data": {
      "text/plain": [
       "True"
      ]
     },
     "execution_count": 12,
     "metadata": {},
     "output_type": "execute_result"
    }
   ],
   "source": [
    "nltk.download(\"vader_lexicon\")"
   ]
  },
  {
   "cell_type": "code",
   "execution_count": 13,
   "metadata": {},
   "outputs": [],
   "source": [
    "from nltk.sentiment.vader import SentimentIntensityAnalyzer"
   ]
  },
  {
   "cell_type": "code",
   "execution_count": 14,
   "metadata": {},
   "outputs": [],
   "source": [
    "sid = SentimentIntensityAnalyzer()"
   ]
  },
  {
   "cell_type": "code",
   "execution_count": null,
   "metadata": {},
   "outputs": [],
   "source": []
  },
  {
   "cell_type": "code",
   "execution_count": 16,
   "metadata": {},
   "outputs": [],
   "source": [
    "\n",
    "# keys and tokens from the Twitter Dev Console \n",
    "consumer_key = \"1wJjd9jjUwrobLlwp1u4Ri8vs\"\n",
    "consumer_secret = \"U4HrBz8nAczVnVQhHGcCTuxcNL7vxZpjj5DTld4ROGauJpC8tQ\"\n",
    "access_token = \"1039066641995366401-20R1QVuFdwq4ydRygzHqzb7k6lkqdl\"\n",
    "access_token_secret = \"0yfIaszIEPorQfIP8gu7Z9TkCmVGKEDssIjlFCiPxhWmw\"\n",
    "\n",
    "# attempt authentication \n",
    "try: \n",
    "    # create OAuthHandler object \n",
    "    auth = tweepy.OAuthHandler(consumer_key, consumer_secret)\n",
    "    # set access token and secret \n",
    "    auth.set_access_token(access_token, access_token_secret)\n",
    "    # create tweepy API object to fetch tweets \n",
    "    api = tweepy.API(auth,wait_on_rate_limit=True)\n",
    "except: \n",
    "    print(\"Error: Authentication Failed\") "
   ]
  },
  {
   "cell_type": "code",
   "execution_count": 17,
   "metadata": {},
   "outputs": [],
   "source": [
    "def clean_tweet(tweet): \n",
    "    ''' \n",
    "    Utility function to clean tweet text by removing links, special characters \n",
    "    using simple regex statements. \n",
    "    '''\n",
    "    return ' '.join(re.sub(\"(@[A-Za-z0-9]+)|([^0-9A-Za-z \\t])|(\\w+:\\/\\/\\S+)\", \" \", tweet).split())\n"
   ]
  },
  {
   "cell_type": "code",
   "execution_count": 18,
   "metadata": {},
   "outputs": [],
   "source": [
    "def get_tweet_sentiment(score): \n",
    "    ''' \n",
    "    Utility function to classify sentiment of passed tweet \n",
    "    using textblob's sentiment method \n",
    "    '''\n",
    "    \n",
    "    if score > 0: \n",
    "        return 'positive'\n",
    "    elif score == 0: \n",
    "        return 'neutral'\n",
    "    else: \n",
    "        return 'negative'\n"
   ]
  },
  {
   "cell_type": "markdown",
   "metadata": {},
   "source": [
    "Query by Text Search\n",
    "Function is focused on completing the query then providing a CSV file of that query using pandas`"
   ]
  },
  {
   "cell_type": "code",
   "execution_count": 19,
   "metadata": {},
   "outputs": [],
   "source": [
    "query = \"deep learning\" + \" \" + \"-filter:retweets\"\n",
    "count = 1500\n",
    "# # Creation of query method using parameters\n",
    "# tweets = tweepy.Cursor(api.search,q=query).items(count)"
   ]
  },
  {
   "cell_type": "code",
   "execution_count": null,
   "metadata": {},
   "outputs": [],
   "source": []
  },
  {
   "cell_type": "code",
   "execution_count": 20,
   "metadata": {},
   "outputs": [],
   "source": [
    "tweets = api.search_tweets(q=query, lang=\"en\", count=count)"
   ]
  },
  {
   "cell_type": "code",
   "execution_count": 21,
   "metadata": {},
   "outputs": [
    {
     "data": {
      "text/plain": [
       "94"
      ]
     },
     "execution_count": 21,
     "metadata": {},
     "output_type": "execute_result"
    }
   ],
   "source": [
    "len(tweets)"
   ]
  },
  {
   "cell_type": "code",
   "execution_count": 22,
   "metadata": {},
   "outputs": [
    {
     "data": {
      "text/plain": [
       "datetime.datetime(2023, 1, 22, 14, 0, 41, tzinfo=datetime.timezone.utc)"
      ]
     },
     "execution_count": 22,
     "metadata": {},
     "output_type": "execute_result"
    }
   ],
   "source": [
    "tweets[0].created_at"
   ]
  },
  {
   "cell_type": "code",
   "execution_count": 23,
   "metadata": {},
   "outputs": [
    {
     "data": {
      "text/plain": [
       "['__class__',\n",
       " '__delattr__',\n",
       " '__dict__',\n",
       " '__dir__',\n",
       " '__doc__',\n",
       " '__eq__',\n",
       " '__format__',\n",
       " '__ge__',\n",
       " '__getattribute__',\n",
       " '__getstate__',\n",
       " '__gt__',\n",
       " '__hash__',\n",
       " '__init__',\n",
       " '__init_subclass__',\n",
       " '__le__',\n",
       " '__lt__',\n",
       " '__module__',\n",
       " '__ne__',\n",
       " '__new__',\n",
       " '__reduce__',\n",
       " '__reduce_ex__',\n",
       " '__repr__',\n",
       " '__setattr__',\n",
       " '__sizeof__',\n",
       " '__slots__',\n",
       " '__str__',\n",
       " '__subclasshook__',\n",
       " '__weakref__',\n",
       " '_api',\n",
       " '_json',\n",
       " 'author',\n",
       " 'contributors',\n",
       " 'coordinates',\n",
       " 'created_at',\n",
       " 'destroy',\n",
       " 'entities',\n",
       " 'favorite',\n",
       " 'favorite_count',\n",
       " 'favorited',\n",
       " 'geo',\n",
       " 'id',\n",
       " 'id_str',\n",
       " 'in_reply_to_screen_name',\n",
       " 'in_reply_to_status_id',\n",
       " 'in_reply_to_status_id_str',\n",
       " 'in_reply_to_user_id',\n",
       " 'in_reply_to_user_id_str',\n",
       " 'is_quote_status',\n",
       " 'lang',\n",
       " 'metadata',\n",
       " 'parse',\n",
       " 'parse_list',\n",
       " 'place',\n",
       " 'possibly_sensitive',\n",
       " 'retweet',\n",
       " 'retweet_count',\n",
       " 'retweeted',\n",
       " 'retweets',\n",
       " 'source',\n",
       " 'source_url',\n",
       " 'text',\n",
       " 'truncated',\n",
       " 'user']"
      ]
     },
     "execution_count": 23,
     "metadata": {},
     "output_type": "execute_result"
    }
   ],
   "source": [
    "dir(tweets[0])"
   ]
  },
  {
   "cell_type": "code",
   "execution_count": 24,
   "metadata": {},
   "outputs": [
    {
     "data": {
      "text/plain": [
       "'Proposing a deep learning model that uses a novel Neuron Activity Aware (NeAW) Hebbian learning rule to dynamically… https://t.co/2695kHK8em'"
      ]
     },
     "execution_count": 24,
     "metadata": {},
     "output_type": "execute_result"
    }
   ],
   "source": [
    "tweets[5].text"
   ]
  },
  {
   "cell_type": "code",
   "execution_count": 25,
   "metadata": {},
   "outputs": [],
   "source": [
    "# Pulling information from tweets iterable object\n",
    "tweets_list = [[ tweet.id, tweet.created_at, tweet.text] for tweet in tweets]"
   ]
  },
  {
   "cell_type": "code",
   "execution_count": 26,
   "metadata": {
    "jupyter": {
     "outputs_hidden": true
    }
   },
   "outputs": [
    {
     "data": {
      "text/plain": [
       "[1617160326213935104,\n",
       " datetime.datetime(2023, 1, 22, 14, 0, 41, tzinfo=datetime.timezone.utc),\n",
       " 'Top 10 Trending Repos 🔥 on #Github \\n\\n1. tuning_playbook \\n \\nA playbook for systematically maximizing the performance… https://t.co/Eakq2r4OKy']"
      ]
     },
     "execution_count": 26,
     "metadata": {},
     "output_type": "execute_result"
    }
   ],
   "source": [
    "tweets_list[0]"
   ]
  },
  {
   "cell_type": "code",
   "execution_count": null,
   "metadata": {},
   "outputs": [],
   "source": []
  },
  {
   "cell_type": "code",
   "execution_count": 27,
   "metadata": {},
   "outputs": [],
   "source": [
    "# Creation of dataframe from tweets list\n",
    "# Add or remove columns as you remove tweet information\n",
    "tweets_df = pd.DataFrame(tweets_list,columns=['Tweet Id', 'Datetime', 'tweet'])"
   ]
  },
  {
   "cell_type": "code",
   "execution_count": 28,
   "metadata": {},
   "outputs": [
    {
     "data": {
      "text/html": [
       "<div>\n",
       "<style scoped>\n",
       "    .dataframe tbody tr th:only-of-type {\n",
       "        vertical-align: middle;\n",
       "    }\n",
       "\n",
       "    .dataframe tbody tr th {\n",
       "        vertical-align: top;\n",
       "    }\n",
       "\n",
       "    .dataframe thead th {\n",
       "        text-align: right;\n",
       "    }\n",
       "</style>\n",
       "<table border=\"1\" class=\"dataframe\">\n",
       "  <thead>\n",
       "    <tr style=\"text-align: right;\">\n",
       "      <th></th>\n",
       "      <th>Tweet Id</th>\n",
       "      <th>Datetime</th>\n",
       "      <th>tweet</th>\n",
       "    </tr>\n",
       "  </thead>\n",
       "  <tbody>\n",
       "    <tr>\n",
       "      <th>0</th>\n",
       "      <td>1617160326213935104</td>\n",
       "      <td>2023-01-22 14:00:41+00:00</td>\n",
       "      <td>Top 10 Trending Repos 🔥 on #Github \\n\\n1. tuni...</td>\n",
       "    </tr>\n",
       "    <tr>\n",
       "      <th>1</th>\n",
       "      <td>1617158867695304708</td>\n",
       "      <td>2023-01-22 13:54:54+00:00</td>\n",
       "      <td>Read this tutorial by @anshita__bhasin, which ...</td>\n",
       "    </tr>\n",
       "    <tr>\n",
       "      <th>2</th>\n",
       "      <td>1617158056898605056</td>\n",
       "      <td>2023-01-22 13:51:40+00:00</td>\n",
       "      <td>Deciding what to do today: Either a deep dive ...</td>\n",
       "    </tr>\n",
       "    <tr>\n",
       "      <th>3</th>\n",
       "      <td>1617157287839428610</td>\n",
       "      <td>2023-01-22 13:48:37+00:00</td>\n",
       "      <td>The satellite-image-deep-learning newsletter i...</td>\n",
       "    </tr>\n",
       "    <tr>\n",
       "      <th>4</th>\n",
       "      <td>1617157045236408320</td>\n",
       "      <td>2023-01-22 13:47:39+00:00</td>\n",
       "      <td>AutoDDL: Automatic Distributed Deep Learning w...</td>\n",
       "    </tr>\n",
       "    <tr>\n",
       "      <th>...</th>\n",
       "      <td>...</td>\n",
       "      <td>...</td>\n",
       "      <td>...</td>\n",
       "    </tr>\n",
       "    <tr>\n",
       "      <th>89</th>\n",
       "      <td>1617077488936488961</td>\n",
       "      <td>2023-01-22 08:31:31+00:00</td>\n",
       "      <td>Most tweeted articles today in Deep Learning:\\...</td>\n",
       "    </tr>\n",
       "    <tr>\n",
       "      <th>90</th>\n",
       "      <td>1617076845006012419</td>\n",
       "      <td>2023-01-22 08:28:58+00:00</td>\n",
       "      <td>Improving Video Voice Dubbing Through Deep Lea...</td>\n",
       "    </tr>\n",
       "    <tr>\n",
       "      <th>91</th>\n",
       "      <td>1617075630259970048</td>\n",
       "      <td>2023-01-22 08:24:08+00:00</td>\n",
       "      <td>You can trust us with your class or assignment...</td>\n",
       "    </tr>\n",
       "    <tr>\n",
       "      <th>92</th>\n",
       "      <td>1617075343122104322</td>\n",
       "      <td>2023-01-22 08:23:00+00:00</td>\n",
       "      <td>AlphaPeptDeep: a modular deep learning framewo...</td>\n",
       "    </tr>\n",
       "    <tr>\n",
       "      <th>93</th>\n",
       "      <td>1617072578241216514</td>\n",
       "      <td>2023-01-22 08:12:01+00:00</td>\n",
       "      <td>Deep Learning Indaba Awards 2023: Celebrating ...</td>\n",
       "    </tr>\n",
       "  </tbody>\n",
       "</table>\n",
       "<p>94 rows × 3 columns</p>\n",
       "</div>"
      ],
      "text/plain": [
       "               Tweet Id                  Datetime  \\\n",
       "0   1617160326213935104 2023-01-22 14:00:41+00:00   \n",
       "1   1617158867695304708 2023-01-22 13:54:54+00:00   \n",
       "2   1617158056898605056 2023-01-22 13:51:40+00:00   \n",
       "3   1617157287839428610 2023-01-22 13:48:37+00:00   \n",
       "4   1617157045236408320 2023-01-22 13:47:39+00:00   \n",
       "..                  ...                       ...   \n",
       "89  1617077488936488961 2023-01-22 08:31:31+00:00   \n",
       "90  1617076845006012419 2023-01-22 08:28:58+00:00   \n",
       "91  1617075630259970048 2023-01-22 08:24:08+00:00   \n",
       "92  1617075343122104322 2023-01-22 08:23:00+00:00   \n",
       "93  1617072578241216514 2023-01-22 08:12:01+00:00   \n",
       "\n",
       "                                                tweet  \n",
       "0   Top 10 Trending Repos 🔥 on #Github \\n\\n1. tuni...  \n",
       "1   Read this tutorial by @anshita__bhasin, which ...  \n",
       "2   Deciding what to do today: Either a deep dive ...  \n",
       "3   The satellite-image-deep-learning newsletter i...  \n",
       "4   AutoDDL: Automatic Distributed Deep Learning w...  \n",
       "..                                                ...  \n",
       "89  Most tweeted articles today in Deep Learning:\\...  \n",
       "90  Improving Video Voice Dubbing Through Deep Lea...  \n",
       "91  You can trust us with your class or assignment...  \n",
       "92  AlphaPeptDeep: a modular deep learning framewo...  \n",
       "93  Deep Learning Indaba Awards 2023: Celebrating ...  \n",
       "\n",
       "[94 rows x 3 columns]"
      ]
     },
     "execution_count": 28,
     "metadata": {},
     "output_type": "execute_result"
    }
   ],
   "source": [
    "tweets_df"
   ]
  },
  {
   "cell_type": "code",
   "execution_count": 29,
   "metadata": {
    "jupyter": {
     "outputs_hidden": true
    }
   },
   "outputs": [
    {
     "data": {
      "text/html": [
       "<div>\n",
       "<style scoped>\n",
       "    .dataframe tbody tr th:only-of-type {\n",
       "        vertical-align: middle;\n",
       "    }\n",
       "\n",
       "    .dataframe tbody tr th {\n",
       "        vertical-align: top;\n",
       "    }\n",
       "\n",
       "    .dataframe thead th {\n",
       "        text-align: right;\n",
       "    }\n",
       "</style>\n",
       "<table border=\"1\" class=\"dataframe\">\n",
       "  <thead>\n",
       "    <tr style=\"text-align: right;\">\n",
       "      <th></th>\n",
       "      <th>Tweet Id</th>\n",
       "      <th>Datetime</th>\n",
       "      <th>tweet</th>\n",
       "      <th>clean_text</th>\n",
       "    </tr>\n",
       "  </thead>\n",
       "  <tbody>\n",
       "    <tr>\n",
       "      <th>0</th>\n",
       "      <td>1617160326213935104</td>\n",
       "      <td>2023-01-22 14:00:41+00:00</td>\n",
       "      <td>Top 10 Trending Repos 🔥 on #Github \\n\\n1. tuni...</td>\n",
       "      <td>Top 10 Trending Repos on Github 1 tuning playb...</td>\n",
       "    </tr>\n",
       "    <tr>\n",
       "      <th>1</th>\n",
       "      <td>1617158867695304708</td>\n",
       "      <td>2023-01-22 13:54:54+00:00</td>\n",
       "      <td>Read this tutorial by @anshita__bhasin, which ...</td>\n",
       "      <td>Read this tutorial by bhasin which dives deep ...</td>\n",
       "    </tr>\n",
       "    <tr>\n",
       "      <th>2</th>\n",
       "      <td>1617158056898605056</td>\n",
       "      <td>2023-01-22 13:51:40+00:00</td>\n",
       "      <td>Deciding what to do today: Either a deep dive ...</td>\n",
       "      <td>Deciding what to do today Either a deep dive o...</td>\n",
       "    </tr>\n",
       "    <tr>\n",
       "      <th>3</th>\n",
       "      <td>1617157287839428610</td>\n",
       "      <td>2023-01-22 13:48:37+00:00</td>\n",
       "      <td>The satellite-image-deep-learning newsletter i...</td>\n",
       "      <td>The satellite image deep learning newsletter i...</td>\n",
       "    </tr>\n",
       "    <tr>\n",
       "      <th>4</th>\n",
       "      <td>1617157045236408320</td>\n",
       "      <td>2023-01-22 13:47:39+00:00</td>\n",
       "      <td>AutoDDL: Automatic Distributed Deep Learning w...</td>\n",
       "      <td>AutoDDL Automatic Distributed Deep Learning wi...</td>\n",
       "    </tr>\n",
       "    <tr>\n",
       "      <th>...</th>\n",
       "      <td>...</td>\n",
       "      <td>...</td>\n",
       "      <td>...</td>\n",
       "      <td>...</td>\n",
       "    </tr>\n",
       "    <tr>\n",
       "      <th>89</th>\n",
       "      <td>1617077488936488961</td>\n",
       "      <td>2023-01-22 08:31:31+00:00</td>\n",
       "      <td>Most tweeted articles today in Deep Learning:\\...</td>\n",
       "      <td>Most tweeted articles today in Deep Learning R...</td>\n",
       "    </tr>\n",
       "    <tr>\n",
       "      <th>90</th>\n",
       "      <td>1617076845006012419</td>\n",
       "      <td>2023-01-22 08:28:58+00:00</td>\n",
       "      <td>Improving Video Voice Dubbing Through Deep Lea...</td>\n",
       "      <td>Improving Video Voice Dubbing Through Deep Lea...</td>\n",
       "    </tr>\n",
       "    <tr>\n",
       "      <th>91</th>\n",
       "      <td>1617075630259970048</td>\n",
       "      <td>2023-01-22 08:24:08+00:00</td>\n",
       "      <td>You can trust us with your class or assignment...</td>\n",
       "      <td>You can trust us with your class or assignment...</td>\n",
       "    </tr>\n",
       "    <tr>\n",
       "      <th>92</th>\n",
       "      <td>1617075343122104322</td>\n",
       "      <td>2023-01-22 08:23:00+00:00</td>\n",
       "      <td>AlphaPeptDeep: a modular deep learning framewo...</td>\n",
       "      <td>AlphaPeptDeep a modular deep learning framewor...</td>\n",
       "    </tr>\n",
       "    <tr>\n",
       "      <th>93</th>\n",
       "      <td>1617072578241216514</td>\n",
       "      <td>2023-01-22 08:12:01+00:00</td>\n",
       "      <td>Deep Learning Indaba Awards 2023: Celebrating ...</td>\n",
       "      <td>Deep Learning Indaba Awards 2023 Celebrating t...</td>\n",
       "    </tr>\n",
       "  </tbody>\n",
       "</table>\n",
       "<p>94 rows × 4 columns</p>\n",
       "</div>"
      ],
      "text/plain": [
       "               Tweet Id                  Datetime  \\\n",
       "0   1617160326213935104 2023-01-22 14:00:41+00:00   \n",
       "1   1617158867695304708 2023-01-22 13:54:54+00:00   \n",
       "2   1617158056898605056 2023-01-22 13:51:40+00:00   \n",
       "3   1617157287839428610 2023-01-22 13:48:37+00:00   \n",
       "4   1617157045236408320 2023-01-22 13:47:39+00:00   \n",
       "..                  ...                       ...   \n",
       "89  1617077488936488961 2023-01-22 08:31:31+00:00   \n",
       "90  1617076845006012419 2023-01-22 08:28:58+00:00   \n",
       "91  1617075630259970048 2023-01-22 08:24:08+00:00   \n",
       "92  1617075343122104322 2023-01-22 08:23:00+00:00   \n",
       "93  1617072578241216514 2023-01-22 08:12:01+00:00   \n",
       "\n",
       "                                                tweet  \\\n",
       "0   Top 10 Trending Repos 🔥 on #Github \\n\\n1. tuni...   \n",
       "1   Read this tutorial by @anshita__bhasin, which ...   \n",
       "2   Deciding what to do today: Either a deep dive ...   \n",
       "3   The satellite-image-deep-learning newsletter i...   \n",
       "4   AutoDDL: Automatic Distributed Deep Learning w...   \n",
       "..                                                ...   \n",
       "89  Most tweeted articles today in Deep Learning:\\...   \n",
       "90  Improving Video Voice Dubbing Through Deep Lea...   \n",
       "91  You can trust us with your class or assignment...   \n",
       "92  AlphaPeptDeep: a modular deep learning framewo...   \n",
       "93  Deep Learning Indaba Awards 2023: Celebrating ...   \n",
       "\n",
       "                                           clean_text  \n",
       "0   Top 10 Trending Repos on Github 1 tuning playb...  \n",
       "1   Read this tutorial by bhasin which dives deep ...  \n",
       "2   Deciding what to do today Either a deep dive o...  \n",
       "3   The satellite image deep learning newsletter i...  \n",
       "4   AutoDDL Automatic Distributed Deep Learning wi...  \n",
       "..                                                ...  \n",
       "89  Most tweeted articles today in Deep Learning R...  \n",
       "90  Improving Video Voice Dubbing Through Deep Lea...  \n",
       "91  You can trust us with your class or assignment...  \n",
       "92  AlphaPeptDeep a modular deep learning framewor...  \n",
       "93  Deep Learning Indaba Awards 2023 Celebrating t...  \n",
       "\n",
       "[94 rows x 4 columns]"
      ]
     },
     "execution_count": 29,
     "metadata": {},
     "output_type": "execute_result"
    }
   ],
   "source": [
    "# clean tweet \n",
    "tweets_df[\"clean_text\"] = tweets_df[\"tweet\"].apply(clean_tweet)\n",
    "tweets_df"
   ]
  },
  {
   "cell_type": "code",
   "execution_count": 30,
   "metadata": {},
   "outputs": [
    {
     "data": {
      "text/plain": [
       "{'neg': 0.787, 'neu': 0.213, 'pos': 0.0, 'compound': -0.5719}"
      ]
     },
     "execution_count": 30,
     "metadata": {},
     "output_type": "execute_result"
    }
   ],
   "source": [
    "sid.polarity_scores(\"i hate you\")"
   ]
  },
  {
   "cell_type": "code",
   "execution_count": null,
   "metadata": {},
   "outputs": [],
   "source": []
  },
  {
   "cell_type": "code",
   "execution_count": 31,
   "metadata": {},
   "outputs": [
    {
     "data": {
      "text/plain": [
       "{'neg': 0.0, 'neu': 0.605, 'pos': 0.395, 'compound': 0.7346}"
      ]
     },
     "execution_count": 31,
     "metadata": {},
     "output_type": "execute_result"
    }
   ],
   "source": [
    "tweets_df[\"score\"] = tweets_df[\"clean_text\"].apply(lambda review:sid.polarity_scores(review))\n",
    "# tweets_df.iloc[0]\n",
    "tweets_df[\"score\"][7]"
   ]
  },
  {
   "cell_type": "code",
   "execution_count": 32,
   "metadata": {},
   "outputs": [
    {
     "data": {
      "text/html": [
       "<div>\n",
       "<style scoped>\n",
       "    .dataframe tbody tr th:only-of-type {\n",
       "        vertical-align: middle;\n",
       "    }\n",
       "\n",
       "    .dataframe tbody tr th {\n",
       "        vertical-align: top;\n",
       "    }\n",
       "\n",
       "    .dataframe thead th {\n",
       "        text-align: right;\n",
       "    }\n",
       "</style>\n",
       "<table border=\"1\" class=\"dataframe\">\n",
       "  <thead>\n",
       "    <tr style=\"text-align: right;\">\n",
       "      <th></th>\n",
       "      <th>Tweet Id</th>\n",
       "      <th>Datetime</th>\n",
       "      <th>tweet</th>\n",
       "      <th>clean_text</th>\n",
       "      <th>score</th>\n",
       "    </tr>\n",
       "  </thead>\n",
       "  <tbody>\n",
       "    <tr>\n",
       "      <th>0</th>\n",
       "      <td>1617160326213935104</td>\n",
       "      <td>2023-01-22 14:00:41+00:00</td>\n",
       "      <td>Top 10 Trending Repos 🔥 on #Github \\n\\n1. tuni...</td>\n",
       "      <td>Top 10 Trending Repos on Github 1 tuning playb...</td>\n",
       "      <td>{'neg': 0.0, 'neu': 0.878, 'pos': 0.122, 'comp...</td>\n",
       "    </tr>\n",
       "    <tr>\n",
       "      <th>1</th>\n",
       "      <td>1617158867695304708</td>\n",
       "      <td>2023-01-22 13:54:54+00:00</td>\n",
       "      <td>Read this tutorial by @anshita__bhasin, which ...</td>\n",
       "      <td>Read this tutorial by bhasin which dives deep ...</td>\n",
       "      <td>{'neg': 0.0, 'neu': 1.0, 'pos': 0.0, 'compound...</td>\n",
       "    </tr>\n",
       "    <tr>\n",
       "      <th>2</th>\n",
       "      <td>1617158056898605056</td>\n",
       "      <td>2023-01-22 13:51:40+00:00</td>\n",
       "      <td>Deciding what to do today: Either a deep dive ...</td>\n",
       "      <td>Deciding what to do today Either a deep dive o...</td>\n",
       "      <td>{'neg': 0.0, 'neu': 0.886, 'pos': 0.114, 'comp...</td>\n",
       "    </tr>\n",
       "    <tr>\n",
       "      <th>3</th>\n",
       "      <td>1617157287839428610</td>\n",
       "      <td>2023-01-22 13:48:37+00:00</td>\n",
       "      <td>The satellite-image-deep-learning newsletter i...</td>\n",
       "      <td>The satellite image deep learning newsletter i...</td>\n",
       "      <td>{'neg': 0.135, 'neu': 0.712, 'pos': 0.154, 'co...</td>\n",
       "    </tr>\n",
       "    <tr>\n",
       "      <th>4</th>\n",
       "      <td>1617157045236408320</td>\n",
       "      <td>2023-01-22 13:47:39+00:00</td>\n",
       "      <td>AutoDDL: Automatic Distributed Deep Learning w...</td>\n",
       "      <td>AutoDDL Automatic Distributed Deep Learning wi...</td>\n",
       "      <td>{'neg': 0.0, 'neu': 0.8, 'pos': 0.2, 'compound...</td>\n",
       "    </tr>\n",
       "  </tbody>\n",
       "</table>\n",
       "</div>"
      ],
      "text/plain": [
       "              Tweet Id                  Datetime  \\\n",
       "0  1617160326213935104 2023-01-22 14:00:41+00:00   \n",
       "1  1617158867695304708 2023-01-22 13:54:54+00:00   \n",
       "2  1617158056898605056 2023-01-22 13:51:40+00:00   \n",
       "3  1617157287839428610 2023-01-22 13:48:37+00:00   \n",
       "4  1617157045236408320 2023-01-22 13:47:39+00:00   \n",
       "\n",
       "                                               tweet  \\\n",
       "0  Top 10 Trending Repos 🔥 on #Github \\n\\n1. tuni...   \n",
       "1  Read this tutorial by @anshita__bhasin, which ...   \n",
       "2  Deciding what to do today: Either a deep dive ...   \n",
       "3  The satellite-image-deep-learning newsletter i...   \n",
       "4  AutoDDL: Automatic Distributed Deep Learning w...   \n",
       "\n",
       "                                          clean_text  \\\n",
       "0  Top 10 Trending Repos on Github 1 tuning playb...   \n",
       "1  Read this tutorial by bhasin which dives deep ...   \n",
       "2  Deciding what to do today Either a deep dive o...   \n",
       "3  The satellite image deep learning newsletter i...   \n",
       "4  AutoDDL Automatic Distributed Deep Learning wi...   \n",
       "\n",
       "                                               score  \n",
       "0  {'neg': 0.0, 'neu': 0.878, 'pos': 0.122, 'comp...  \n",
       "1  {'neg': 0.0, 'neu': 1.0, 'pos': 0.0, 'compound...  \n",
       "2  {'neg': 0.0, 'neu': 0.886, 'pos': 0.114, 'comp...  \n",
       "3  {'neg': 0.135, 'neu': 0.712, 'pos': 0.154, 'co...  \n",
       "4  {'neg': 0.0, 'neu': 0.8, 'pos': 0.2, 'compound...  "
      ]
     },
     "execution_count": 32,
     "metadata": {},
     "output_type": "execute_result"
    }
   ],
   "source": [
    "tweets_df.head()"
   ]
  },
  {
   "cell_type": "code",
   "execution_count": 33,
   "metadata": {
    "scrolled": true
   },
   "outputs": [
    {
     "data": {
      "text/html": [
       "<div>\n",
       "<style scoped>\n",
       "    .dataframe tbody tr th:only-of-type {\n",
       "        vertical-align: middle;\n",
       "    }\n",
       "\n",
       "    .dataframe tbody tr th {\n",
       "        vertical-align: top;\n",
       "    }\n",
       "\n",
       "    .dataframe thead th {\n",
       "        text-align: right;\n",
       "    }\n",
       "</style>\n",
       "<table border=\"1\" class=\"dataframe\">\n",
       "  <thead>\n",
       "    <tr style=\"text-align: right;\">\n",
       "      <th></th>\n",
       "      <th>Tweet Id</th>\n",
       "      <th>Datetime</th>\n",
       "      <th>tweet</th>\n",
       "      <th>clean_text</th>\n",
       "      <th>score</th>\n",
       "      <th>compound</th>\n",
       "    </tr>\n",
       "  </thead>\n",
       "  <tbody>\n",
       "    <tr>\n",
       "      <th>0</th>\n",
       "      <td>1617160326213935104</td>\n",
       "      <td>2023-01-22 14:00:41+00:00</td>\n",
       "      <td>Top 10 Trending Repos 🔥 on #Github \\n\\n1. tuni...</td>\n",
       "      <td>Top 10 Trending Repos on Github 1 tuning playb...</td>\n",
       "      <td>{'neg': 0.0, 'neu': 0.878, 'pos': 0.122, 'comp...</td>\n",
       "      <td>0.2023</td>\n",
       "    </tr>\n",
       "    <tr>\n",
       "      <th>1</th>\n",
       "      <td>1617158867695304708</td>\n",
       "      <td>2023-01-22 13:54:54+00:00</td>\n",
       "      <td>Read this tutorial by @anshita__bhasin, which ...</td>\n",
       "      <td>Read this tutorial by bhasin which dives deep ...</td>\n",
       "      <td>{'neg': 0.0, 'neu': 1.0, 'pos': 0.0, 'compound...</td>\n",
       "      <td>0.0000</td>\n",
       "    </tr>\n",
       "    <tr>\n",
       "      <th>2</th>\n",
       "      <td>1617158056898605056</td>\n",
       "      <td>2023-01-22 13:51:40+00:00</td>\n",
       "      <td>Deciding what to do today: Either a deep dive ...</td>\n",
       "      <td>Deciding what to do today Either a deep dive o...</td>\n",
       "      <td>{'neg': 0.0, 'neu': 0.886, 'pos': 0.114, 'comp...</td>\n",
       "      <td>0.4005</td>\n",
       "    </tr>\n",
       "    <tr>\n",
       "      <th>3</th>\n",
       "      <td>1617157287839428610</td>\n",
       "      <td>2023-01-22 13:48:37+00:00</td>\n",
       "      <td>The satellite-image-deep-learning newsletter i...</td>\n",
       "      <td>The satellite image deep learning newsletter i...</td>\n",
       "      <td>{'neg': 0.135, 'neu': 0.712, 'pos': 0.154, 'co...</td>\n",
       "      <td>0.1280</td>\n",
       "    </tr>\n",
       "    <tr>\n",
       "      <th>4</th>\n",
       "      <td>1617157045236408320</td>\n",
       "      <td>2023-01-22 13:47:39+00:00</td>\n",
       "      <td>AutoDDL: Automatic Distributed Deep Learning w...</td>\n",
       "      <td>AutoDDL Automatic Distributed Deep Learning wi...</td>\n",
       "      <td>{'neg': 0.0, 'neu': 0.8, 'pos': 0.2, 'compound...</td>\n",
       "      <td>0.3612</td>\n",
       "    </tr>\n",
       "    <tr>\n",
       "      <th>...</th>\n",
       "      <td>...</td>\n",
       "      <td>...</td>\n",
       "      <td>...</td>\n",
       "      <td>...</td>\n",
       "      <td>...</td>\n",
       "      <td>...</td>\n",
       "    </tr>\n",
       "    <tr>\n",
       "      <th>89</th>\n",
       "      <td>1617077488936488961</td>\n",
       "      <td>2023-01-22 08:31:31+00:00</td>\n",
       "      <td>Most tweeted articles today in Deep Learning:\\...</td>\n",
       "      <td>Most tweeted articles today in Deep Learning R...</td>\n",
       "      <td>{'neg': 0.0, 'neu': 1.0, 'pos': 0.0, 'compound...</td>\n",
       "      <td>0.0000</td>\n",
       "    </tr>\n",
       "    <tr>\n",
       "      <th>90</th>\n",
       "      <td>1617076845006012419</td>\n",
       "      <td>2023-01-22 08:28:58+00:00</td>\n",
       "      <td>Improving Video Voice Dubbing Through Deep Lea...</td>\n",
       "      <td>Improving Video Voice Dubbing Through Deep Lea...</td>\n",
       "      <td>{'neg': 0.0, 'neu': 0.714, 'pos': 0.286, 'comp...</td>\n",
       "      <td>0.4215</td>\n",
       "    </tr>\n",
       "    <tr>\n",
       "      <th>91</th>\n",
       "      <td>1617075630259970048</td>\n",
       "      <td>2023-01-22 08:24:08+00:00</td>\n",
       "      <td>You can trust us with your class or assignment...</td>\n",
       "      <td>You can trust us with your class or assignment...</td>\n",
       "      <td>{'neg': 0.0, 'neu': 0.762, 'pos': 0.238, 'comp...</td>\n",
       "      <td>0.6486</td>\n",
       "    </tr>\n",
       "    <tr>\n",
       "      <th>92</th>\n",
       "      <td>1617075343122104322</td>\n",
       "      <td>2023-01-22 08:23:00+00:00</td>\n",
       "      <td>AlphaPeptDeep: a modular deep learning framewo...</td>\n",
       "      <td>AlphaPeptDeep a modular deep learning framewor...</td>\n",
       "      <td>{'neg': 0.0, 'neu': 1.0, 'pos': 0.0, 'compound...</td>\n",
       "      <td>0.0000</td>\n",
       "    </tr>\n",
       "    <tr>\n",
       "      <th>93</th>\n",
       "      <td>1617072578241216514</td>\n",
       "      <td>2023-01-22 08:12:01+00:00</td>\n",
       "      <td>Deep Learning Indaba Awards 2023: Celebrating ...</td>\n",
       "      <td>Deep Learning Indaba Awards 2023 Celebrating t...</td>\n",
       "      <td>{'neg': 0.0, 'neu': 0.491, 'pos': 0.509, 'comp...</td>\n",
       "      <td>0.9260</td>\n",
       "    </tr>\n",
       "  </tbody>\n",
       "</table>\n",
       "<p>94 rows × 6 columns</p>\n",
       "</div>"
      ],
      "text/plain": [
       "               Tweet Id                  Datetime  \\\n",
       "0   1617160326213935104 2023-01-22 14:00:41+00:00   \n",
       "1   1617158867695304708 2023-01-22 13:54:54+00:00   \n",
       "2   1617158056898605056 2023-01-22 13:51:40+00:00   \n",
       "3   1617157287839428610 2023-01-22 13:48:37+00:00   \n",
       "4   1617157045236408320 2023-01-22 13:47:39+00:00   \n",
       "..                  ...                       ...   \n",
       "89  1617077488936488961 2023-01-22 08:31:31+00:00   \n",
       "90  1617076845006012419 2023-01-22 08:28:58+00:00   \n",
       "91  1617075630259970048 2023-01-22 08:24:08+00:00   \n",
       "92  1617075343122104322 2023-01-22 08:23:00+00:00   \n",
       "93  1617072578241216514 2023-01-22 08:12:01+00:00   \n",
       "\n",
       "                                                tweet  \\\n",
       "0   Top 10 Trending Repos 🔥 on #Github \\n\\n1. tuni...   \n",
       "1   Read this tutorial by @anshita__bhasin, which ...   \n",
       "2   Deciding what to do today: Either a deep dive ...   \n",
       "3   The satellite-image-deep-learning newsletter i...   \n",
       "4   AutoDDL: Automatic Distributed Deep Learning w...   \n",
       "..                                                ...   \n",
       "89  Most tweeted articles today in Deep Learning:\\...   \n",
       "90  Improving Video Voice Dubbing Through Deep Lea...   \n",
       "91  You can trust us with your class or assignment...   \n",
       "92  AlphaPeptDeep: a modular deep learning framewo...   \n",
       "93  Deep Learning Indaba Awards 2023: Celebrating ...   \n",
       "\n",
       "                                           clean_text  \\\n",
       "0   Top 10 Trending Repos on Github 1 tuning playb...   \n",
       "1   Read this tutorial by bhasin which dives deep ...   \n",
       "2   Deciding what to do today Either a deep dive o...   \n",
       "3   The satellite image deep learning newsletter i...   \n",
       "4   AutoDDL Automatic Distributed Deep Learning wi...   \n",
       "..                                                ...   \n",
       "89  Most tweeted articles today in Deep Learning R...   \n",
       "90  Improving Video Voice Dubbing Through Deep Lea...   \n",
       "91  You can trust us with your class or assignment...   \n",
       "92  AlphaPeptDeep a modular deep learning framewor...   \n",
       "93  Deep Learning Indaba Awards 2023 Celebrating t...   \n",
       "\n",
       "                                                score  compound  \n",
       "0   {'neg': 0.0, 'neu': 0.878, 'pos': 0.122, 'comp...    0.2023  \n",
       "1   {'neg': 0.0, 'neu': 1.0, 'pos': 0.0, 'compound...    0.0000  \n",
       "2   {'neg': 0.0, 'neu': 0.886, 'pos': 0.114, 'comp...    0.4005  \n",
       "3   {'neg': 0.135, 'neu': 0.712, 'pos': 0.154, 'co...    0.1280  \n",
       "4   {'neg': 0.0, 'neu': 0.8, 'pos': 0.2, 'compound...    0.3612  \n",
       "..                                                ...       ...  \n",
       "89  {'neg': 0.0, 'neu': 1.0, 'pos': 0.0, 'compound...    0.0000  \n",
       "90  {'neg': 0.0, 'neu': 0.714, 'pos': 0.286, 'comp...    0.4215  \n",
       "91  {'neg': 0.0, 'neu': 0.762, 'pos': 0.238, 'comp...    0.6486  \n",
       "92  {'neg': 0.0, 'neu': 1.0, 'pos': 0.0, 'compound...    0.0000  \n",
       "93  {'neg': 0.0, 'neu': 0.491, 'pos': 0.509, 'comp...    0.9260  \n",
       "\n",
       "[94 rows x 6 columns]"
      ]
     },
     "execution_count": 33,
     "metadata": {},
     "output_type": "execute_result"
    }
   ],
   "source": [
    "tweets_df[\"compound\"] = tweets_df[\"score\"].apply(lambda d:d[\"compound\"])\n",
    "tweets_df"
   ]
  },
  {
   "cell_type": "code",
   "execution_count": 34,
   "metadata": {},
   "outputs": [
    {
     "data": {
      "text/html": [
       "<div>\n",
       "<style scoped>\n",
       "    .dataframe tbody tr th:only-of-type {\n",
       "        vertical-align: middle;\n",
       "    }\n",
       "\n",
       "    .dataframe tbody tr th {\n",
       "        vertical-align: top;\n",
       "    }\n",
       "\n",
       "    .dataframe thead th {\n",
       "        text-align: right;\n",
       "    }\n",
       "</style>\n",
       "<table border=\"1\" class=\"dataframe\">\n",
       "  <thead>\n",
       "    <tr style=\"text-align: right;\">\n",
       "      <th></th>\n",
       "      <th>Tweet Id</th>\n",
       "      <th>Datetime</th>\n",
       "      <th>tweet</th>\n",
       "      <th>clean_text</th>\n",
       "      <th>score</th>\n",
       "      <th>compound</th>\n",
       "      <th>sentiment</th>\n",
       "    </tr>\n",
       "  </thead>\n",
       "  <tbody>\n",
       "    <tr>\n",
       "      <th>0</th>\n",
       "      <td>1617160326213935104</td>\n",
       "      <td>2023-01-22 14:00:41+00:00</td>\n",
       "      <td>Top 10 Trending Repos 🔥 on #Github \\n\\n1. tuni...</td>\n",
       "      <td>Top 10 Trending Repos on Github 1 tuning playb...</td>\n",
       "      <td>{'neg': 0.0, 'neu': 0.878, 'pos': 0.122, 'comp...</td>\n",
       "      <td>0.2023</td>\n",
       "      <td>positive</td>\n",
       "    </tr>\n",
       "    <tr>\n",
       "      <th>1</th>\n",
       "      <td>1617158867695304708</td>\n",
       "      <td>2023-01-22 13:54:54+00:00</td>\n",
       "      <td>Read this tutorial by @anshita__bhasin, which ...</td>\n",
       "      <td>Read this tutorial by bhasin which dives deep ...</td>\n",
       "      <td>{'neg': 0.0, 'neu': 1.0, 'pos': 0.0, 'compound...</td>\n",
       "      <td>0.0000</td>\n",
       "      <td>neutral</td>\n",
       "    </tr>\n",
       "    <tr>\n",
       "      <th>2</th>\n",
       "      <td>1617158056898605056</td>\n",
       "      <td>2023-01-22 13:51:40+00:00</td>\n",
       "      <td>Deciding what to do today: Either a deep dive ...</td>\n",
       "      <td>Deciding what to do today Either a deep dive o...</td>\n",
       "      <td>{'neg': 0.0, 'neu': 0.886, 'pos': 0.114, 'comp...</td>\n",
       "      <td>0.4005</td>\n",
       "      <td>positive</td>\n",
       "    </tr>\n",
       "    <tr>\n",
       "      <th>3</th>\n",
       "      <td>1617157287839428610</td>\n",
       "      <td>2023-01-22 13:48:37+00:00</td>\n",
       "      <td>The satellite-image-deep-learning newsletter i...</td>\n",
       "      <td>The satellite image deep learning newsletter i...</td>\n",
       "      <td>{'neg': 0.135, 'neu': 0.712, 'pos': 0.154, 'co...</td>\n",
       "      <td>0.1280</td>\n",
       "      <td>positive</td>\n",
       "    </tr>\n",
       "    <tr>\n",
       "      <th>4</th>\n",
       "      <td>1617157045236408320</td>\n",
       "      <td>2023-01-22 13:47:39+00:00</td>\n",
       "      <td>AutoDDL: Automatic Distributed Deep Learning w...</td>\n",
       "      <td>AutoDDL Automatic Distributed Deep Learning wi...</td>\n",
       "      <td>{'neg': 0.0, 'neu': 0.8, 'pos': 0.2, 'compound...</td>\n",
       "      <td>0.3612</td>\n",
       "      <td>positive</td>\n",
       "    </tr>\n",
       "    <tr>\n",
       "      <th>...</th>\n",
       "      <td>...</td>\n",
       "      <td>...</td>\n",
       "      <td>...</td>\n",
       "      <td>...</td>\n",
       "      <td>...</td>\n",
       "      <td>...</td>\n",
       "      <td>...</td>\n",
       "    </tr>\n",
       "    <tr>\n",
       "      <th>89</th>\n",
       "      <td>1617077488936488961</td>\n",
       "      <td>2023-01-22 08:31:31+00:00</td>\n",
       "      <td>Most tweeted articles today in Deep Learning:\\...</td>\n",
       "      <td>Most tweeted articles today in Deep Learning R...</td>\n",
       "      <td>{'neg': 0.0, 'neu': 1.0, 'pos': 0.0, 'compound...</td>\n",
       "      <td>0.0000</td>\n",
       "      <td>neutral</td>\n",
       "    </tr>\n",
       "    <tr>\n",
       "      <th>90</th>\n",
       "      <td>1617076845006012419</td>\n",
       "      <td>2023-01-22 08:28:58+00:00</td>\n",
       "      <td>Improving Video Voice Dubbing Through Deep Lea...</td>\n",
       "      <td>Improving Video Voice Dubbing Through Deep Lea...</td>\n",
       "      <td>{'neg': 0.0, 'neu': 0.714, 'pos': 0.286, 'comp...</td>\n",
       "      <td>0.4215</td>\n",
       "      <td>positive</td>\n",
       "    </tr>\n",
       "    <tr>\n",
       "      <th>91</th>\n",
       "      <td>1617075630259970048</td>\n",
       "      <td>2023-01-22 08:24:08+00:00</td>\n",
       "      <td>You can trust us with your class or assignment...</td>\n",
       "      <td>You can trust us with your class or assignment...</td>\n",
       "      <td>{'neg': 0.0, 'neu': 0.762, 'pos': 0.238, 'comp...</td>\n",
       "      <td>0.6486</td>\n",
       "      <td>positive</td>\n",
       "    </tr>\n",
       "    <tr>\n",
       "      <th>92</th>\n",
       "      <td>1617075343122104322</td>\n",
       "      <td>2023-01-22 08:23:00+00:00</td>\n",
       "      <td>AlphaPeptDeep: a modular deep learning framewo...</td>\n",
       "      <td>AlphaPeptDeep a modular deep learning framewor...</td>\n",
       "      <td>{'neg': 0.0, 'neu': 1.0, 'pos': 0.0, 'compound...</td>\n",
       "      <td>0.0000</td>\n",
       "      <td>neutral</td>\n",
       "    </tr>\n",
       "    <tr>\n",
       "      <th>93</th>\n",
       "      <td>1617072578241216514</td>\n",
       "      <td>2023-01-22 08:12:01+00:00</td>\n",
       "      <td>Deep Learning Indaba Awards 2023: Celebrating ...</td>\n",
       "      <td>Deep Learning Indaba Awards 2023 Celebrating t...</td>\n",
       "      <td>{'neg': 0.0, 'neu': 0.491, 'pos': 0.509, 'comp...</td>\n",
       "      <td>0.9260</td>\n",
       "      <td>positive</td>\n",
       "    </tr>\n",
       "  </tbody>\n",
       "</table>\n",
       "<p>94 rows × 7 columns</p>\n",
       "</div>"
      ],
      "text/plain": [
       "               Tweet Id                  Datetime  \\\n",
       "0   1617160326213935104 2023-01-22 14:00:41+00:00   \n",
       "1   1617158867695304708 2023-01-22 13:54:54+00:00   \n",
       "2   1617158056898605056 2023-01-22 13:51:40+00:00   \n",
       "3   1617157287839428610 2023-01-22 13:48:37+00:00   \n",
       "4   1617157045236408320 2023-01-22 13:47:39+00:00   \n",
       "..                  ...                       ...   \n",
       "89  1617077488936488961 2023-01-22 08:31:31+00:00   \n",
       "90  1617076845006012419 2023-01-22 08:28:58+00:00   \n",
       "91  1617075630259970048 2023-01-22 08:24:08+00:00   \n",
       "92  1617075343122104322 2023-01-22 08:23:00+00:00   \n",
       "93  1617072578241216514 2023-01-22 08:12:01+00:00   \n",
       "\n",
       "                                                tweet  \\\n",
       "0   Top 10 Trending Repos 🔥 on #Github \\n\\n1. tuni...   \n",
       "1   Read this tutorial by @anshita__bhasin, which ...   \n",
       "2   Deciding what to do today: Either a deep dive ...   \n",
       "3   The satellite-image-deep-learning newsletter i...   \n",
       "4   AutoDDL: Automatic Distributed Deep Learning w...   \n",
       "..                                                ...   \n",
       "89  Most tweeted articles today in Deep Learning:\\...   \n",
       "90  Improving Video Voice Dubbing Through Deep Lea...   \n",
       "91  You can trust us with your class or assignment...   \n",
       "92  AlphaPeptDeep: a modular deep learning framewo...   \n",
       "93  Deep Learning Indaba Awards 2023: Celebrating ...   \n",
       "\n",
       "                                           clean_text  \\\n",
       "0   Top 10 Trending Repos on Github 1 tuning playb...   \n",
       "1   Read this tutorial by bhasin which dives deep ...   \n",
       "2   Deciding what to do today Either a deep dive o...   \n",
       "3   The satellite image deep learning newsletter i...   \n",
       "4   AutoDDL Automatic Distributed Deep Learning wi...   \n",
       "..                                                ...   \n",
       "89  Most tweeted articles today in Deep Learning R...   \n",
       "90  Improving Video Voice Dubbing Through Deep Lea...   \n",
       "91  You can trust us with your class or assignment...   \n",
       "92  AlphaPeptDeep a modular deep learning framewor...   \n",
       "93  Deep Learning Indaba Awards 2023 Celebrating t...   \n",
       "\n",
       "                                                score  compound sentiment  \n",
       "0   {'neg': 0.0, 'neu': 0.878, 'pos': 0.122, 'comp...    0.2023  positive  \n",
       "1   {'neg': 0.0, 'neu': 1.0, 'pos': 0.0, 'compound...    0.0000   neutral  \n",
       "2   {'neg': 0.0, 'neu': 0.886, 'pos': 0.114, 'comp...    0.4005  positive  \n",
       "3   {'neg': 0.135, 'neu': 0.712, 'pos': 0.154, 'co...    0.1280  positive  \n",
       "4   {'neg': 0.0, 'neu': 0.8, 'pos': 0.2, 'compound...    0.3612  positive  \n",
       "..                                                ...       ...       ...  \n",
       "89  {'neg': 0.0, 'neu': 1.0, 'pos': 0.0, 'compound...    0.0000   neutral  \n",
       "90  {'neg': 0.0, 'neu': 0.714, 'pos': 0.286, 'comp...    0.4215  positive  \n",
       "91  {'neg': 0.0, 'neu': 0.762, 'pos': 0.238, 'comp...    0.6486  positive  \n",
       "92  {'neg': 0.0, 'neu': 1.0, 'pos': 0.0, 'compound...    0.0000   neutral  \n",
       "93  {'neg': 0.0, 'neu': 0.491, 'pos': 0.509, 'comp...    0.9260  positive  \n",
       "\n",
       "[94 rows x 7 columns]"
      ]
     },
     "execution_count": 34,
     "metadata": {},
     "output_type": "execute_result"
    }
   ],
   "source": [
    "tweets_df[\"sentiment\"] = tweets_df[\"compound\"].apply(lambda  score : get_tweet_sentiment(score))\n",
    "tweets_df"
   ]
  },
  {
   "cell_type": "code",
   "execution_count": 35,
   "metadata": {},
   "outputs": [],
   "source": [
    "del tweets_df[\"score\"]\n",
    "del tweets_df[\"compound\"]"
   ]
  },
  {
   "cell_type": "code",
   "execution_count": 36,
   "metadata": {},
   "outputs": [
    {
     "data": {
      "text/html": [
       "<div>\n",
       "<style scoped>\n",
       "    .dataframe tbody tr th:only-of-type {\n",
       "        vertical-align: middle;\n",
       "    }\n",
       "\n",
       "    .dataframe tbody tr th {\n",
       "        vertical-align: top;\n",
       "    }\n",
       "\n",
       "    .dataframe thead th {\n",
       "        text-align: right;\n",
       "    }\n",
       "</style>\n",
       "<table border=\"1\" class=\"dataframe\">\n",
       "  <thead>\n",
       "    <tr style=\"text-align: right;\">\n",
       "      <th></th>\n",
       "      <th>Tweet Id</th>\n",
       "      <th>Datetime</th>\n",
       "      <th>tweet</th>\n",
       "      <th>clean_text</th>\n",
       "      <th>sentiment</th>\n",
       "    </tr>\n",
       "  </thead>\n",
       "  <tbody>\n",
       "    <tr>\n",
       "      <th>0</th>\n",
       "      <td>1617160326213935104</td>\n",
       "      <td>2023-01-22 14:00:41+00:00</td>\n",
       "      <td>Top 10 Trending Repos 🔥 on #Github \\n\\n1. tuni...</td>\n",
       "      <td>Top 10 Trending Repos on Github 1 tuning playb...</td>\n",
       "      <td>positive</td>\n",
       "    </tr>\n",
       "    <tr>\n",
       "      <th>1</th>\n",
       "      <td>1617158867695304708</td>\n",
       "      <td>2023-01-22 13:54:54+00:00</td>\n",
       "      <td>Read this tutorial by @anshita__bhasin, which ...</td>\n",
       "      <td>Read this tutorial by bhasin which dives deep ...</td>\n",
       "      <td>neutral</td>\n",
       "    </tr>\n",
       "    <tr>\n",
       "      <th>2</th>\n",
       "      <td>1617158056898605056</td>\n",
       "      <td>2023-01-22 13:51:40+00:00</td>\n",
       "      <td>Deciding what to do today: Either a deep dive ...</td>\n",
       "      <td>Deciding what to do today Either a deep dive o...</td>\n",
       "      <td>positive</td>\n",
       "    </tr>\n",
       "    <tr>\n",
       "      <th>3</th>\n",
       "      <td>1617157287839428610</td>\n",
       "      <td>2023-01-22 13:48:37+00:00</td>\n",
       "      <td>The satellite-image-deep-learning newsletter i...</td>\n",
       "      <td>The satellite image deep learning newsletter i...</td>\n",
       "      <td>positive</td>\n",
       "    </tr>\n",
       "    <tr>\n",
       "      <th>4</th>\n",
       "      <td>1617157045236408320</td>\n",
       "      <td>2023-01-22 13:47:39+00:00</td>\n",
       "      <td>AutoDDL: Automatic Distributed Deep Learning w...</td>\n",
       "      <td>AutoDDL Automatic Distributed Deep Learning wi...</td>\n",
       "      <td>positive</td>\n",
       "    </tr>\n",
       "  </tbody>\n",
       "</table>\n",
       "</div>"
      ],
      "text/plain": [
       "              Tweet Id                  Datetime  \\\n",
       "0  1617160326213935104 2023-01-22 14:00:41+00:00   \n",
       "1  1617158867695304708 2023-01-22 13:54:54+00:00   \n",
       "2  1617158056898605056 2023-01-22 13:51:40+00:00   \n",
       "3  1617157287839428610 2023-01-22 13:48:37+00:00   \n",
       "4  1617157045236408320 2023-01-22 13:47:39+00:00   \n",
       "\n",
       "                                               tweet  \\\n",
       "0  Top 10 Trending Repos 🔥 on #Github \\n\\n1. tuni...   \n",
       "1  Read this tutorial by @anshita__bhasin, which ...   \n",
       "2  Deciding what to do today: Either a deep dive ...   \n",
       "3  The satellite-image-deep-learning newsletter i...   \n",
       "4  AutoDDL: Automatic Distributed Deep Learning w...   \n",
       "\n",
       "                                          clean_text sentiment  \n",
       "0  Top 10 Trending Repos on Github 1 tuning playb...  positive  \n",
       "1  Read this tutorial by bhasin which dives deep ...   neutral  \n",
       "2  Deciding what to do today Either a deep dive o...  positive  \n",
       "3  The satellite image deep learning newsletter i...  positive  \n",
       "4  AutoDDL Automatic Distributed Deep Learning wi...  positive  "
      ]
     },
     "execution_count": 36,
     "metadata": {},
     "output_type": "execute_result"
    }
   ],
   "source": [
    "tweets_df.head()"
   ]
  },
  {
   "cell_type": "code",
   "execution_count": 37,
   "metadata": {},
   "outputs": [],
   "source": [
    "tweets = []\n",
    "\n",
    "def text_query_to_csv(text_query,count=200):\n",
    "    try:\n",
    "        \n",
    "        query = text_query + \" \" + \"-filter:retweets\"\n",
    "        # Creation of query method using parameters\n",
    "        tweets = api.search_tweets(q=query, lang=\"en\", count=count)\n",
    "\n",
    "        # Pulling information from tweets iterable object\n",
    "        tweets_list = [[ tweet.id, tweet.created_at, tweet.text] for tweet in tweets]\n",
    "        \n",
    "    \n",
    "        # Creation of dataframe from tweets list\n",
    "        # Add or remove columns as you remove tweet information\n",
    "        tweets_df = pd.DataFrame(tweets_list,columns=['Tweet Id', 'Datetime', 'tweet'])\n",
    "        \n",
    "        # clean tweet \n",
    "        tweets_df[\"clean_text\"] = tweets_df[\"tweet\"].apply(lambda tweet: clean_tweet(tweet))\n",
    "        \n",
    "        tweets_df[\"score\"] = tweets_df[\"clean_text\"].apply(lambda review:sid.polarity_scores(review))\n",
    "        \n",
    "        tweets_df[\"compound\"] = tweets_df[\"score\"].apply(lambda d:d[\"compound\"])\n",
    "        tweets_df[\"sentiment\"] = tweets_df[\"compound\"].apply(lambda  score : get_tweet_sentiment(score))\n",
    "        \n",
    "        del tweets_df[\"score\"]\n",
    "        del tweets_df[\"compound\"]\n",
    "        \n",
    "      \n",
    "        return tweets_df\n",
    "\n",
    "    except BaseException as e:\n",
    "        print('failed on_status,',str(e))\n",
    "        time.sleep(3)"
   ]
  },
  {
   "cell_type": "markdown",
   "metadata": {},
   "source": [
    "# Amazon India"
   ]
  },
  {
   "cell_type": "code",
   "execution_count": 39,
   "metadata": {},
   "outputs": [],
   "source": [
    "amazon_india = text_query_to_csv(\"amazon india\") # 3000"
   ]
  },
  {
   "cell_type": "code",
   "execution_count": 40,
   "metadata": {},
   "outputs": [
    {
     "data": {
      "text/html": [
       "<div>\n",
       "<style scoped>\n",
       "    .dataframe tbody tr th:only-of-type {\n",
       "        vertical-align: middle;\n",
       "    }\n",
       "\n",
       "    .dataframe tbody tr th {\n",
       "        vertical-align: top;\n",
       "    }\n",
       "\n",
       "    .dataframe thead th {\n",
       "        text-align: right;\n",
       "    }\n",
       "</style>\n",
       "<table border=\"1\" class=\"dataframe\">\n",
       "  <thead>\n",
       "    <tr style=\"text-align: right;\">\n",
       "      <th></th>\n",
       "      <th>Tweet Id</th>\n",
       "      <th>Datetime</th>\n",
       "      <th>tweet</th>\n",
       "      <th>clean_text</th>\n",
       "      <th>sentiment</th>\n",
       "    </tr>\n",
       "  </thead>\n",
       "  <tbody>\n",
       "    <tr>\n",
       "      <th>0</th>\n",
       "      <td>1617161717657784321</td>\n",
       "      <td>2023-01-22 14:06:13+00:00</td>\n",
       "      <td>@amazonIN @amazon @MBhrigraj\\n@BandBajaateRaho...</td>\n",
       "      <td>INDIA Shocking Experience Found irrelevant Duplic</td>\n",
       "      <td>negative</td>\n",
       "    </tr>\n",
       "    <tr>\n",
       "      <th>1</th>\n",
       "      <td>1617161309153554433</td>\n",
       "      <td>2023-01-22 14:04:36+00:00</td>\n",
       "      <td>@AmazonHelp @AmazonHelp  again I am saying the...</td>\n",
       "      <td>again I am saying the same I am unable to conn...</td>\n",
       "      <td>neutral</td>\n",
       "    </tr>\n",
       "    <tr>\n",
       "      <th>2</th>\n",
       "      <td>1617160463154032641</td>\n",
       "      <td>2023-01-22 14:01:14+00:00</td>\n",
       "      <td>@MahatOfficial @amazon Bro STR epa Thailand ir...</td>\n",
       "      <td>Bro STR epa Thailand iruthu india vararu After...</td>\n",
       "      <td>neutral</td>\n",
       "    </tr>\n",
       "    <tr>\n",
       "      <th>3</th>\n",
       "      <td>1617159845454704640</td>\n",
       "      <td>2023-01-22 13:58:47+00:00</td>\n",
       "      <td>@ashishg932 @Voice_For_India Amazon.\\n\\nNehru'...</td>\n",
       "      <td>For India Amazon Nehru s 97 Major Blunders HB</td>\n",
       "      <td>positive</td>\n",
       "    </tr>\n",
       "    <tr>\n",
       "      <th>4</th>\n",
       "      <td>1617159300597829633</td>\n",
       "      <td>2023-01-22 13:56:37+00:00</td>\n",
       "      <td>@amazonIN \\nOrder No - 405-1705904-0120350\\n N...</td>\n",
       "      <td>Order No 405 1705904 0120350 No pick up since ...</td>\n",
       "      <td>negative</td>\n",
       "    </tr>\n",
       "    <tr>\n",
       "      <th>5</th>\n",
       "      <td>1617159280968273921</td>\n",
       "      <td>2023-01-22 13:56:32+00:00</td>\n",
       "      <td>From Harper Collins, #India Instagram: Buy #Po...</td>\n",
       "      <td>From Harper Collins India Instagram Buy Politi...</td>\n",
       "      <td>negative</td>\n",
       "    </tr>\n",
       "    <tr>\n",
       "      <th>6</th>\n",
       "      <td>1617159197942247424</td>\n",
       "      <td>2023-01-22 13:56:12+00:00</td>\n",
       "      <td>@amazon \\nOrder No - 405-1705904-0120350\\n No ...</td>\n",
       "      <td>Order No 405 1705904 0120350 No pick up since ...</td>\n",
       "      <td>negative</td>\n",
       "    </tr>\n",
       "    <tr>\n",
       "      <th>7</th>\n",
       "      <td>1617158952915185666</td>\n",
       "      <td>2023-01-22 13:55:14+00:00</td>\n",
       "      <td>@AmazonHelp \\nOrder No - 405-1705904-0120350\\n...</td>\n",
       "      <td>Order No 405 1705904 0120350 No pick up since ...</td>\n",
       "      <td>negative</td>\n",
       "    </tr>\n",
       "    <tr>\n",
       "      <th>8</th>\n",
       "      <td>1617155936891592704</td>\n",
       "      <td>2023-01-22 13:43:15+00:00</td>\n",
       "      <td>After a bloody air battle, an Indian fighter p...</td>\n",
       "      <td>After a bloody air battle an Indian fighter pi...</td>\n",
       "      <td>negative</td>\n",
       "    </tr>\n",
       "    <tr>\n",
       "      <th>9</th>\n",
       "      <td>1617154753644879874</td>\n",
       "      <td>2023-01-22 13:38:33+00:00</td>\n",
       "      <td>India and Faraway Lands at #1 on New Releases ...</td>\n",
       "      <td>India and Faraway Lands at 1 on New Releases i...</td>\n",
       "      <td>positive</td>\n",
       "    </tr>\n",
       "  </tbody>\n",
       "</table>\n",
       "</div>"
      ],
      "text/plain": [
       "              Tweet Id                  Datetime  \\\n",
       "0  1617161717657784321 2023-01-22 14:06:13+00:00   \n",
       "1  1617161309153554433 2023-01-22 14:04:36+00:00   \n",
       "2  1617160463154032641 2023-01-22 14:01:14+00:00   \n",
       "3  1617159845454704640 2023-01-22 13:58:47+00:00   \n",
       "4  1617159300597829633 2023-01-22 13:56:37+00:00   \n",
       "5  1617159280968273921 2023-01-22 13:56:32+00:00   \n",
       "6  1617159197942247424 2023-01-22 13:56:12+00:00   \n",
       "7  1617158952915185666 2023-01-22 13:55:14+00:00   \n",
       "8  1617155936891592704 2023-01-22 13:43:15+00:00   \n",
       "9  1617154753644879874 2023-01-22 13:38:33+00:00   \n",
       "\n",
       "                                               tweet  \\\n",
       "0  @amazonIN @amazon @MBhrigraj\\n@BandBajaateRaho...   \n",
       "1  @AmazonHelp @AmazonHelp  again I am saying the...   \n",
       "2  @MahatOfficial @amazon Bro STR epa Thailand ir...   \n",
       "3  @ashishg932 @Voice_For_India Amazon.\\n\\nNehru'...   \n",
       "4  @amazonIN \\nOrder No - 405-1705904-0120350\\n N...   \n",
       "5  From Harper Collins, #India Instagram: Buy #Po...   \n",
       "6  @amazon \\nOrder No - 405-1705904-0120350\\n No ...   \n",
       "7  @AmazonHelp \\nOrder No - 405-1705904-0120350\\n...   \n",
       "8  After a bloody air battle, an Indian fighter p...   \n",
       "9  India and Faraway Lands at #1 on New Releases ...   \n",
       "\n",
       "                                          clean_text sentiment  \n",
       "0  INDIA Shocking Experience Found irrelevant Duplic  negative  \n",
       "1  again I am saying the same I am unable to conn...   neutral  \n",
       "2  Bro STR epa Thailand iruthu india vararu After...   neutral  \n",
       "3      For India Amazon Nehru s 97 Major Blunders HB  positive  \n",
       "4  Order No 405 1705904 0120350 No pick up since ...  negative  \n",
       "5  From Harper Collins India Instagram Buy Politi...  negative  \n",
       "6  Order No 405 1705904 0120350 No pick up since ...  negative  \n",
       "7  Order No 405 1705904 0120350 No pick up since ...  negative  \n",
       "8  After a bloody air battle an Indian fighter pi...  negative  \n",
       "9  India and Faraway Lands at 1 on New Releases i...  positive  "
      ]
     },
     "execution_count": 40,
     "metadata": {},
     "output_type": "execute_result"
    }
   ],
   "source": [
    "amazon_india.head(10)"
   ]
  },
  {
   "cell_type": "code",
   "execution_count": 41,
   "metadata": {},
   "outputs": [],
   "source": [
    "amazon_india.to_csv('{}-tweets.csv'.format(\"amazon_india\"), sep=',', index = False)"
   ]
  },
  {
   "cell_type": "code",
   "execution_count": 42,
   "metadata": {},
   "outputs": [
    {
     "data": {
      "text/plain": [
       "(100, 5)"
      ]
     },
     "execution_count": 42,
     "metadata": {},
     "output_type": "execute_result"
    }
   ],
   "source": [
    "amazon_india.shape"
   ]
  },
  {
   "cell_type": "code",
   "execution_count": null,
   "metadata": {},
   "outputs": [],
   "source": []
  },
  {
   "cell_type": "markdown",
   "metadata": {},
   "source": [
    "# Flipkart"
   ]
  },
  {
   "cell_type": "code",
   "execution_count": 43,
   "metadata": {},
   "outputs": [],
   "source": [
    "flipkart = text_query_to_csv(\"chatgpt\", 150) # 15mins time to compelte"
   ]
  },
  {
   "cell_type": "code",
   "execution_count": 44,
   "metadata": {},
   "outputs": [
    {
     "data": {
      "text/html": [
       "<div>\n",
       "<style scoped>\n",
       "    .dataframe tbody tr th:only-of-type {\n",
       "        vertical-align: middle;\n",
       "    }\n",
       "\n",
       "    .dataframe tbody tr th {\n",
       "        vertical-align: top;\n",
       "    }\n",
       "\n",
       "    .dataframe thead th {\n",
       "        text-align: right;\n",
       "    }\n",
       "</style>\n",
       "<table border=\"1\" class=\"dataframe\">\n",
       "  <thead>\n",
       "    <tr style=\"text-align: right;\">\n",
       "      <th></th>\n",
       "      <th>Tweet Id</th>\n",
       "      <th>Datetime</th>\n",
       "      <th>tweet</th>\n",
       "      <th>clean_text</th>\n",
       "      <th>sentiment</th>\n",
       "    </tr>\n",
       "  </thead>\n",
       "  <tbody>\n",
       "    <tr>\n",
       "      <th>0</th>\n",
       "      <td>1617162079659589632</td>\n",
       "      <td>2023-01-22 14:07:39+00:00</td>\n",
       "      <td>@LouiseOFresco Or let's ask questions of farme...</td>\n",
       "      <td>Or let s ask questions of farmers instead of c...</td>\n",
       "      <td>neutral</td>\n",
       "    </tr>\n",
       "    <tr>\n",
       "      <th>1</th>\n",
       "      <td>1617162079231934468</td>\n",
       "      <td>2023-01-22 14:07:39+00:00</td>\n",
       "      <td>@JagersbergKnut @bindureddy I am amazed at man...</td>\n",
       "      <td>I am amazed at many similar tech exec response...</td>\n",
       "      <td>positive</td>\n",
       "    </tr>\n",
       "    <tr>\n",
       "      <th>2</th>\n",
       "      <td>1617162012072583173</td>\n",
       "      <td>2023-01-22 14:07:23+00:00</td>\n",
       "      <td>Going to a make quick video using ChatGPT to g...</td>\n",
       "      <td>Going to a make quick video using ChatGPT to g...</td>\n",
       "      <td>neutral</td>\n",
       "    </tr>\n",
       "    <tr>\n",
       "      <th>3</th>\n",
       "      <td>1617161975863336967</td>\n",
       "      <td>2023-01-22 14:07:15+00:00</td>\n",
       "      <td>In one month ChatGPT did for AI what's Blockch...</td>\n",
       "      <td>In one month ChatGPT did for AI what s Blockch...</td>\n",
       "      <td>neutral</td>\n",
       "    </tr>\n",
       "    <tr>\n",
       "      <th>4</th>\n",
       "      <td>1617161945269903360</td>\n",
       "      <td>2023-01-22 14:07:07+00:00</td>\n",
       "      <td>Nearly 30 percent of professionals say they ha...</td>\n",
       "      <td>Nearly 30 percent of professionals say they ha...</td>\n",
       "      <td>neutral</td>\n",
       "    </tr>\n",
       "    <tr>\n",
       "      <th>5</th>\n",
       "      <td>1617161942392770560</td>\n",
       "      <td>2023-01-22 14:07:07+00:00</td>\n",
       "      <td>ChatGPT fiction is getting too good https://t....</td>\n",
       "      <td>ChatGPT fiction is getting too good</td>\n",
       "      <td>positive</td>\n",
       "    </tr>\n",
       "    <tr>\n",
       "      <th>6</th>\n",
       "      <td>1617161924571013124</td>\n",
       "      <td>2023-01-22 14:07:02+00:00</td>\n",
       "      <td>PS: I generated this tweet using chatGPT only😂...</td>\n",
       "      <td>PS I generated this tweet using chatGPT only i...</td>\n",
       "      <td>positive</td>\n",
       "    </tr>\n",
       "    <tr>\n",
       "      <th>7</th>\n",
       "      <td>1617161901884203011</td>\n",
       "      <td>2023-01-22 14:06:57+00:00</td>\n",
       "      <td>Hey @elonmusk and others, why fear #AI? I see ...</td>\n",
       "      <td>Hey and others why fear AI I see a new and adv...</td>\n",
       "      <td>positive</td>\n",
       "    </tr>\n",
       "    <tr>\n",
       "      <th>8</th>\n",
       "      <td>1617161896662306821</td>\n",
       "      <td>2023-01-22 14:06:56+00:00</td>\n",
       "      <td>the Google economy. Just wait till the interne...</td>\n",
       "      <td>the Google economy Just wait till the internet...</td>\n",
       "      <td>negative</td>\n",
       "    </tr>\n",
       "    <tr>\n",
       "      <th>9</th>\n",
       "      <td>1617161849396465666</td>\n",
       "      <td>2023-01-22 14:06:44+00:00</td>\n",
       "      <td>ChatGPT in an iOS Shortcut: Smart HomeKit Voic...</td>\n",
       "      <td>ChatGPT in an iOS Shortcut Smart HomeKit Voice...</td>\n",
       "      <td>positive</td>\n",
       "    </tr>\n",
       "  </tbody>\n",
       "</table>\n",
       "</div>"
      ],
      "text/plain": [
       "              Tweet Id                  Datetime  \\\n",
       "0  1617162079659589632 2023-01-22 14:07:39+00:00   \n",
       "1  1617162079231934468 2023-01-22 14:07:39+00:00   \n",
       "2  1617162012072583173 2023-01-22 14:07:23+00:00   \n",
       "3  1617161975863336967 2023-01-22 14:07:15+00:00   \n",
       "4  1617161945269903360 2023-01-22 14:07:07+00:00   \n",
       "5  1617161942392770560 2023-01-22 14:07:07+00:00   \n",
       "6  1617161924571013124 2023-01-22 14:07:02+00:00   \n",
       "7  1617161901884203011 2023-01-22 14:06:57+00:00   \n",
       "8  1617161896662306821 2023-01-22 14:06:56+00:00   \n",
       "9  1617161849396465666 2023-01-22 14:06:44+00:00   \n",
       "\n",
       "                                               tweet  \\\n",
       "0  @LouiseOFresco Or let's ask questions of farme...   \n",
       "1  @JagersbergKnut @bindureddy I am amazed at man...   \n",
       "2  Going to a make quick video using ChatGPT to g...   \n",
       "3  In one month ChatGPT did for AI what's Blockch...   \n",
       "4  Nearly 30 percent of professionals say they ha...   \n",
       "5  ChatGPT fiction is getting too good https://t....   \n",
       "6  PS: I generated this tweet using chatGPT only😂...   \n",
       "7  Hey @elonmusk and others, why fear #AI? I see ...   \n",
       "8  the Google economy. Just wait till the interne...   \n",
       "9  ChatGPT in an iOS Shortcut: Smart HomeKit Voic...   \n",
       "\n",
       "                                          clean_text sentiment  \n",
       "0  Or let s ask questions of farmers instead of c...   neutral  \n",
       "1  I am amazed at many similar tech exec response...  positive  \n",
       "2  Going to a make quick video using ChatGPT to g...   neutral  \n",
       "3  In one month ChatGPT did for AI what s Blockch...   neutral  \n",
       "4  Nearly 30 percent of professionals say they ha...   neutral  \n",
       "5                ChatGPT fiction is getting too good  positive  \n",
       "6  PS I generated this tweet using chatGPT only i...  positive  \n",
       "7  Hey and others why fear AI I see a new and adv...  positive  \n",
       "8  the Google economy Just wait till the internet...  negative  \n",
       "9  ChatGPT in an iOS Shortcut Smart HomeKit Voice...  positive  "
      ]
     },
     "execution_count": 44,
     "metadata": {},
     "output_type": "execute_result"
    }
   ],
   "source": [
    "flipkart.head(10)"
   ]
  },
  {
   "cell_type": "code",
   "execution_count": 45,
   "metadata": {},
   "outputs": [],
   "source": [
    "flipkart.to_csv('{}-tweets.csv'.format(\"flipkart\"), sep=',', index = False)"
   ]
  },
  {
   "cell_type": "code",
   "execution_count": 46,
   "metadata": {},
   "outputs": [
    {
     "data": {
      "text/plain": [
       "(100, 5)"
      ]
     },
     "execution_count": 46,
     "metadata": {},
     "output_type": "execute_result"
    }
   ],
   "source": [
    "flipkart.shape"
   ]
  },
  {
   "cell_type": "markdown",
   "metadata": {},
   "source": [
    "# snapdeal"
   ]
  },
  {
   "cell_type": "code",
   "execution_count": 47,
   "metadata": {},
   "outputs": [],
   "source": [
    "snapdeal = text_query_to_csv(\"snapdeal\", 250) # 15mins time to compelte"
   ]
  },
  {
   "cell_type": "code",
   "execution_count": 48,
   "metadata": {},
   "outputs": [
    {
     "data": {
      "text/html": [
       "<div>\n",
       "<style scoped>\n",
       "    .dataframe tbody tr th:only-of-type {\n",
       "        vertical-align: middle;\n",
       "    }\n",
       "\n",
       "    .dataframe tbody tr th {\n",
       "        vertical-align: top;\n",
       "    }\n",
       "\n",
       "    .dataframe thead th {\n",
       "        text-align: right;\n",
       "    }\n",
       "</style>\n",
       "<table border=\"1\" class=\"dataframe\">\n",
       "  <thead>\n",
       "    <tr style=\"text-align: right;\">\n",
       "      <th></th>\n",
       "      <th>Tweet Id</th>\n",
       "      <th>Datetime</th>\n",
       "      <th>tweet</th>\n",
       "      <th>clean_text</th>\n",
       "      <th>sentiment</th>\n",
       "    </tr>\n",
       "  </thead>\n",
       "  <tbody>\n",
       "    <tr>\n",
       "      <th>0</th>\n",
       "      <td>1617137507321233408</td>\n",
       "      <td>2023-01-22 12:30:01+00:00</td>\n",
       "      <td>What better way to shine this #RepublicDay, th...</td>\n",
       "      <td>What better way to shine this RepublicDay than...</td>\n",
       "      <td>positive</td>\n",
       "    </tr>\n",
       "    <tr>\n",
       "      <th>1</th>\n",
       "      <td>1617132548412571653</td>\n",
       "      <td>2023-01-22 12:10:19+00:00</td>\n",
       "      <td>@flipkartsupport ordered 36 size received 44 r...</td>\n",
       "      <td>ordered 36 size received 44 requested return o...</td>\n",
       "      <td>negative</td>\n",
       "    </tr>\n",
       "    <tr>\n",
       "      <th>2</th>\n",
       "      <td>1617130775606095880</td>\n",
       "      <td>2023-01-22 12:03:16+00:00</td>\n",
       "      <td>@snapdeal No one fraud was called and told ref...</td>\n",
       "      <td>No one fraud was called and told refund issued...</td>\n",
       "      <td>negative</td>\n",
       "    </tr>\n",
       "    <tr>\n",
       "      <th>3</th>\n",
       "      <td>1617129722248396803</td>\n",
       "      <td>2023-01-22 11:59:05+00:00</td>\n",
       "      <td>@AnkurMi31097424 These OTPs can be misused by ...</td>\n",
       "      <td>These OTPs can be misused by hackers to gain a...</td>\n",
       "      <td>positive</td>\n",
       "    </tr>\n",
       "    <tr>\n",
       "      <th>4</th>\n",
       "      <td>1617129653092712448</td>\n",
       "      <td>2023-01-22 11:58:48+00:00</td>\n",
       "      <td>@AnkurMi31097424 Hi! Please be informed that t...</td>\n",
       "      <td>Hi Please be informed that there are some spam...</td>\n",
       "      <td>positive</td>\n",
       "    </tr>\n",
       "    <tr>\n",
       "      <th>5</th>\n",
       "      <td>1617129402789396482</td>\n",
       "      <td>2023-01-22 11:57:49+00:00</td>\n",
       "      <td>I received otp every minute on my number...wha...</td>\n",
       "      <td>I received otp every minute on my number what ...</td>\n",
       "      <td>positive</td>\n",
       "    </tr>\n",
       "    <tr>\n",
       "      <th>6</th>\n",
       "      <td>1617121195618635778</td>\n",
       "      <td>2023-01-22 11:25:12+00:00</td>\n",
       "      <td>@barnwalSanjeev @viditaatrey @meesho_support s...</td>\n",
       "      <td>support scripted answers do not work enough of...</td>\n",
       "      <td>positive</td>\n",
       "    </tr>\n",
       "    <tr>\n",
       "      <th>7</th>\n",
       "      <td>1617121052672270338</td>\n",
       "      <td>2023-01-22 11:24:38+00:00</td>\n",
       "      <td>@DavidVirat Hi! Hamare team ne already apko ca...</td>\n",
       "      <td>Hi Hamare team ne already apko call karke aapk...</td>\n",
       "      <td>positive</td>\n",
       "    </tr>\n",
       "    <tr>\n",
       "      <th>8</th>\n",
       "      <td>1617118679900065792</td>\n",
       "      <td>2023-01-22 11:15:12+00:00</td>\n",
       "      <td>@DavidVirat Hi! Jaisa ki hum check kar paa rah...</td>\n",
       "      <td>Hi Jaisa ki hum check kar paa rahe hain Hum al...</td>\n",
       "      <td>positive</td>\n",
       "    </tr>\n",
       "    <tr>\n",
       "      <th>9</th>\n",
       "      <td>1617109052131102722</td>\n",
       "      <td>2023-01-22 10:36:57+00:00</td>\n",
       "      <td>@skumar0914 Hi! We always request our customer...</td>\n",
       "      <td>Hi We always request our customers to never sh...</td>\n",
       "      <td>negative</td>\n",
       "    </tr>\n",
       "  </tbody>\n",
       "</table>\n",
       "</div>"
      ],
      "text/plain": [
       "              Tweet Id                  Datetime  \\\n",
       "0  1617137507321233408 2023-01-22 12:30:01+00:00   \n",
       "1  1617132548412571653 2023-01-22 12:10:19+00:00   \n",
       "2  1617130775606095880 2023-01-22 12:03:16+00:00   \n",
       "3  1617129722248396803 2023-01-22 11:59:05+00:00   \n",
       "4  1617129653092712448 2023-01-22 11:58:48+00:00   \n",
       "5  1617129402789396482 2023-01-22 11:57:49+00:00   \n",
       "6  1617121195618635778 2023-01-22 11:25:12+00:00   \n",
       "7  1617121052672270338 2023-01-22 11:24:38+00:00   \n",
       "8  1617118679900065792 2023-01-22 11:15:12+00:00   \n",
       "9  1617109052131102722 2023-01-22 10:36:57+00:00   \n",
       "\n",
       "                                               tweet  \\\n",
       "0  What better way to shine this #RepublicDay, th...   \n",
       "1  @flipkartsupport ordered 36 size received 44 r...   \n",
       "2  @snapdeal No one fraud was called and told ref...   \n",
       "3  @AnkurMi31097424 These OTPs can be misused by ...   \n",
       "4  @AnkurMi31097424 Hi! Please be informed that t...   \n",
       "5  I received otp every minute on my number...wha...   \n",
       "6  @barnwalSanjeev @viditaatrey @meesho_support s...   \n",
       "7  @DavidVirat Hi! Hamare team ne already apko ca...   \n",
       "8  @DavidVirat Hi! Jaisa ki hum check kar paa rah...   \n",
       "9  @skumar0914 Hi! We always request our customer...   \n",
       "\n",
       "                                          clean_text sentiment  \n",
       "0  What better way to shine this RepublicDay than...  positive  \n",
       "1  ordered 36 size received 44 requested return o...  negative  \n",
       "2  No one fraud was called and told refund issued...  negative  \n",
       "3  These OTPs can be misused by hackers to gain a...  positive  \n",
       "4  Hi Please be informed that there are some spam...  positive  \n",
       "5  I received otp every minute on my number what ...  positive  \n",
       "6  support scripted answers do not work enough of...  positive  \n",
       "7  Hi Hamare team ne already apko call karke aapk...  positive  \n",
       "8  Hi Jaisa ki hum check kar paa rahe hain Hum al...  positive  \n",
       "9  Hi We always request our customers to never sh...  negative  "
      ]
     },
     "execution_count": 48,
     "metadata": {},
     "output_type": "execute_result"
    }
   ],
   "source": [
    "snapdeal.head(10)"
   ]
  },
  {
   "cell_type": "code",
   "execution_count": 49,
   "metadata": {},
   "outputs": [],
   "source": [
    "snapdeal.to_csv('{}-tweets.csv'.format(\"snapdeal\"), sep=',', index = False)"
   ]
  },
  {
   "cell_type": "code",
   "execution_count": 50,
   "metadata": {},
   "outputs": [
    {
     "data": {
      "text/plain": [
       "(100, 5)"
      ]
     },
     "execution_count": 50,
     "metadata": {},
     "output_type": "execute_result"
    }
   ],
   "source": [
    "snapdeal.shape"
   ]
  },
  {
   "cell_type": "markdown",
   "metadata": {},
   "source": [
    "---"
   ]
  },
  {
   "cell_type": "code",
   "execution_count": 51,
   "metadata": {},
   "outputs": [
    {
     "name": "stdout",
     "output_type": "stream",
     "text": [
      "\n",
      "For Amazon India...\n",
      "Positive tweets percentage: 40.0 %\n",
      "Negative tweets percentage: 27.0 %\n",
      "Neutral tweets percentage: 33.0 %\n"
     ]
    },
    {
     "data": {
      "image/png": "[encoded data removed]",
      "text/plain": [
       "<Figure size 432x288 with 1 Axes>"
      ]
     },
     "metadata": {
      "needs_background": "light"
     },
     "output_type": "display_data"
    }
   ],
   "source": [
    "ax = sns.countplot(x=\"sentiment\", data=amazon_india)\n",
    "plt.ylim(0, amazon_india.shape[0])\n",
    "plt.title(\"Amazon India\")\n",
    "print()\n",
    "\n",
    "pos = round(amazon_india[\"sentiment\"].value_counts()[0]/len(amazon_india) * 100, 2)\n",
    "neu = round(amazon_india[\"sentiment\"].value_counts()[1]/len(amazon_india) * 100, 2)\n",
    "neg = round(amazon_india[\"sentiment\"].value_counts()[2]/len(amazon_india) * 100, 2)\n",
    "print(\"For Amazon India...\")\n",
    "print('Positive tweets percentage: {} %'.format(pos))\n",
    "print('Negative tweets percentage: {} %'.format(neg))\n",
    "print('Neutral tweets percentage: {} %'.format(neu))"
   ]
  },
  {
   "cell_type": "code",
   "execution_count": 52,
   "metadata": {},
   "outputs": [
    {
     "name": "stdout",
     "output_type": "stream",
     "text": [
      "\n",
      "For flipkart ...\n",
      "Positive tweets percentage: 50.0 %\n",
      "Negative tweets percentage: 15.0 %\n",
      "Neutral tweets percentage: 35.0 %\n"
     ]
    },
    {
     "data": {
      "image/png": "[encoded data removed]",
      "text/plain": [
       "<Figure size 432x288 with 1 Axes>"
      ]
     },
     "metadata": {
      "needs_background": "light"
     },
     "output_type": "display_data"
    }
   ],
   "source": [
    "ax = sns.countplot(x=\"sentiment\", data=flipkart)\n",
    "plt.ylim(0, flipkart.shape[0])\n",
    "plt.title(\"flipkart\")\n",
    "print()\n",
    "\n",
    "pos = round(flipkart[\"sentiment\"].value_counts()[0]/len(flipkart) * 100, 2)\n",
    "neu = round(flipkart[\"sentiment\"].value_counts()[1]/len(flipkart) * 100, 2)\n",
    "neg = round(flipkart[\"sentiment\"].value_counts()[2]/len(flipkart) * 100, 2)\n",
    "print(\"For flipkart ...\")\n",
    "print('Positive tweets percentage: {} %'.format(pos))\n",
    "print('Negative tweets percentage: {} %'.format(neg))\n",
    "print('Neutral tweets percentage: {} %'.format(neu))"
   ]
  },
  {
   "cell_type": "code",
   "execution_count": 53,
   "metadata": {},
   "outputs": [
    {
     "name": "stdout",
     "output_type": "stream",
     "text": [
      "\n",
      "For snapdeal ...\n",
      "Positive tweets percentage: 65.0 %\n",
      "Negative tweets percentage: 13.0 %\n",
      "Neutral tweets percentage: 22.0 %\n"
     ]
    },
    {
     "data": {
      "image/png": "[encoded data removed]",
      "text/plain": [
       "<Figure size 432x288 with 1 Axes>"
      ]
     },
     "metadata": {
      "needs_background": "light"
     },
     "output_type": "display_data"
    }
   ],
   "source": [
    "ax = sns.countplot(x=\"sentiment\", data=snapdeal)\n",
    "plt.ylim(0, snapdeal.shape[0])\n",
    "plt.title(\"snapdeal\")\n",
    "print()\n",
    "\n",
    "pos = round(snapdeal[\"sentiment\"].value_counts()[0]/len(snapdeal) * 100, 2)\n",
    "neu = round(snapdeal[\"sentiment\"].value_counts()[1]/len(snapdeal) * 100, 2)\n",
    "neg = round(snapdeal[\"sentiment\"].value_counts()[2]/len(snapdeal) * 100, 2)\n",
    "print(\"For snapdeal ...\")\n",
    "print('Positive tweets percentage: {} %'.format(pos))\n",
    "print('Negative tweets percentage: {} %'.format(neg))\n",
    "print('Neutral tweets percentage: {} %'.format(neu))"
   ]
  },
  {
   "cell_type": "markdown",
   "metadata": {},
   "source": [
    "# Virat Kholi"
   ]
  },
  {
   "cell_type": "code",
   "execution_count": 58,
   "metadata": {},
   "outputs": [],
   "source": [
    "virat = text_query_to_csv(\"Virat Kohli\", 250) # 15mins time to compelte"
   ]
  },
  {
   "cell_type": "code",
   "execution_count": 56,
   "metadata": {},
   "outputs": [
    {
     "data": {
      "text/plain": [
       "(100, 5)"
      ]
     },
     "execution_count": 56,
     "metadata": {},
     "output_type": "execute_result"
    }
   ],
   "source": [
    "virat.shape"
   ]
  },
  {
   "cell_type": "code",
   "execution_count": 57,
   "metadata": {},
   "outputs": [
    {
     "name": "stdout",
     "output_type": "stream",
     "text": [
      "\n",
      "For Amazon India...\n",
      "Positive tweets percentage: 46.0 %\n",
      "Negative tweets percentage: 10.0 %\n",
      "Neutral tweets percentage: 44.0 %\n"
     ]
    },
    {
     "data": {
      "image/png": "[encoded data removed]",
      "text/plain": [
       "<Figure size 432x288 with 1 Axes>"
      ]
     },
     "metadata": {
      "needs_background": "light"
     },
     "output_type": "display_data"
    }
   ],
   "source": [
    "ax = sns.countplot(x=\"sentiment\", data=amazon_india)\n",
    "plt.ylim(0, virat.shape[0])\n",
    "plt.title(\"Amazon India\")\n",
    "print()\n",
    "\n",
    "pos = round(virat[\"sentiment\"].value_counts()[0]/len(virat) * 100, 2)\n",
    "neu = round(virat[\"sentiment\"].value_counts()[1]/len(virat) * 100, 2)\n",
    "neg = round(virat[\"sentiment\"].value_counts()[2]/len(virat) * 100, 2)\n",
    "print(\"For Amazon India...\")\n",
    "print('Positive tweets percentage: {} %'.format(pos))\n",
    "print('Negative tweets percentage: {} %'.format(neg))\n",
    "print('Neutral tweets percentage: {} %'.format(neu))"
   ]
  },
  {
   "cell_type": "code",
   "execution_count": null,
   "metadata": {},
   "outputs": [],
   "source": []
  }
 ],
 "metadata": {
  "kernelspec": {
   "display_name": "Python 3 (ipykernel)",
   "language": "python",
   "name": "python3"
  },
  "language_info": {
   "codemirror_mode": {
    "name": "ipython",
    "version": 3
   },
   "file_extension": ".py",
   "mimetype": "text/x-python",
   "name": "python",
   "nbconvert_exporter": "python",
   "pygments_lexer": "ipython3",
   "version": "3.7.6"
  }
 },
 "nbformat": 4,
 "nbformat_minor": 4
}
